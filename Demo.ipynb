{
  "nbformat": 4,
  "nbformat_minor": 0,
  "metadata": {
    "colab": {
      "provenance": []
    },
    "kernelspec": {
      "name": "python3",
      "display_name": "Python 3"
    },
    "language_info": {
      "name": "python"
    }
  },
  "cells": [
    {
      "cell_type": "markdown",
      "source": [
        "**MRI Speech Identification**\n",
        "\n",
        "We want to identify vocals with real-time MRI data. The MRI records peoples vocal tract while speaking. Our approach is to take pixel vectors of every time frame where A, E and O is spoken. Then give this vectors to a LSTM Model, which should pedict what letter a person is currently speaking.\n",
        "\n",
        "[GitHub](https://github.com/Johannes-Walter/MRI-Speech-Identification/blob/main/train_Johannes.ipynb)"
      ],
      "metadata": {
        "id": "p3BuCFdBgvC-"
      }
    },
    {
      "cell_type": "markdown",
      "source": [
        "Code-Demo"
      ],
      "metadata": {
        "id": "2zVtBJj9hGeD"
      }
    },
    {
      "cell_type": "markdown",
      "source": [
        "## Imports"
      ],
      "metadata": {
        "id": "jQ7dN0-BhNeh"
      }
    },
    {
      "cell_type": "code",
      "execution_count": 1,
      "metadata": {
        "colab": {
          "base_uri": "https://localhost:8080/"
        },
        "id": "_oO5t6R-gtrr",
        "outputId": "171f4cc2-854b-4720-f2ee-c6cb5c9a0670"
      },
      "outputs": [
        {
          "output_type": "stream",
          "name": "stdout",
          "text": [
            "Drive already mounted at /content/drive; to attempt to forcibly remount, call drive.mount(\"/content/drive\", force_remount=True).\n"
          ]
        }
      ],
      "source": [
        "#connect to gdrive\n",
        "from google.colab import drive\n",
        "drive.mount('/content/drive')"
      ]
    },
    {
      "cell_type": "code",
      "source": [
        "#imports\n",
        "import pandas as pd\n",
        "import numpy as np\n",
        "from matplotlib import pyplot as plt\n",
        "from sklearn.model_selection import train_test_split\n",
        "from sklearn import datasets\n",
        "from sklearn import svm\n",
        "import sys\n",
        "sys.path.insert(0,\"/content/drive/My Drive/Colab Notebooks\")\n",
        "import data_preparer\n",
        "import data_reader\n",
        "from data_vectorizer import Vectorizer\n",
        "from pathlib import Path\n",
        "from keras.utils import to_categorical\n",
        "import torch\n",
        "import tensorflow as tf\n",
        "import keras"
      ],
      "metadata": {
        "id": "vI8l6P-dhhj0"
      },
      "execution_count": 2,
      "outputs": []
    },
    {
      "cell_type": "markdown",
      "source": [
        "# Setup Training Data"
      ],
      "metadata": {
        "id": "-2yuxgT0zEsM"
      }
    },
    {
      "cell_type": "code",
      "source": [
        "# Setup traing data\n",
        "vectors, letters = data_preparer.get_randomized_vectors(100)\n",
        "x_validate, y_validate = data_preparer.get_default_vectors()\n",
        "length = data_preparer.get_max_frames()\n",
        "\n",
        "vectors = data_preparer.make_numpy(vectors, length)\n",
        "x_validate = data_preparer.make_numpy(x_validate, length)"
      ],
      "metadata": {
        "id": "Uln3cuuSiD4_",
        "colab": {
          "base_uri": "https://localhost:8080/"
        },
        "outputId": "6ddd5362-f5e9-49ef-b1f6-b0bd0f227c24"
      },
      "execution_count": 3,
      "outputs": [
        {
          "output_type": "stream",
          "name": "stdout",
          "text": [
            "/content/drive/My Drive/Colab Notebooks/data/sub001\n"
          ]
        }
      ]
    },
    {
      "cell_type": "code",
      "source": [
        "items = set(letters)\n",
        "items.update(y_validate)\n",
        "\n",
        "items = {\n",
        "    item: idx\n",
        "    for idx, item in enumerate(items)\n",
        "}\n",
        "\n",
        "for idx, item in enumerate(letters):\n",
        "    letters[idx] = items[item]\n",
        "for idx, item in enumerate(y_validate):\n",
        "    y_validate[idx] = items[item]"
      ],
      "metadata": {
        "id": "7bQZoAZl2S1p"
      },
      "execution_count": 4,
      "outputs": []
    },
    {
      "cell_type": "code",
      "source": [
        "letters = np.array(letters)\n",
        "letters = keras.utils.to_categorical(letters)\n",
        "y_validate = np.array(y_validate)\n",
        "y_validate = keras.utils.to_categorical(y_validate)"
      ],
      "metadata": {
        "id": "JEX_P5GTu3A5"
      },
      "execution_count": 5,
      "outputs": []
    },
    {
      "cell_type": "code",
      "source": [
        "vectors.shape"
      ],
      "metadata": {
        "colab": {
          "base_uri": "https://localhost:8080/"
        },
        "id": "xBpC9OGX3D80",
        "outputId": "746b3d82-acce-421e-fadf-e57017f83893"
      },
      "execution_count": 6,
      "outputs": [
        {
          "output_type": "execute_result",
          "data": {
            "text/plain": [
              "(18000, 7, 1860)"
            ]
          },
          "metadata": {},
          "execution_count": 6
        }
      ]
    },
    {
      "cell_type": "code",
      "source": [
        "letters.shape"
      ],
      "metadata": {
        "colab": {
          "base_uri": "https://localhost:8080/"
        },
        "id": "RsdkPmj93KwP",
        "outputId": "a6503393-8f16-468b-abf5-83dc6521c2f2"
      },
      "execution_count": 7,
      "outputs": [
        {
          "output_type": "execute_result",
          "data": {
            "text/plain": [
              "(18000, 3)"
            ]
          },
          "metadata": {},
          "execution_count": 7
        }
      ]
    },
    {
      "cell_type": "markdown",
      "source": [
        "Vectors consist of (Letters, Vecotrs, pixel length*timephrames)\n",
        "\n",
        "**Letters**: How many letters we are using -> 18000\n",
        "\n",
        "**Vectors**: How many vectors we are using frame per frame -> 7\n",
        "\n",
        "**Pixel lenght**: How long is one vector -> 20 pixel\n",
        "\n",
        "**Timephrames**: how many timephrames per letter (this differs form letter to letter -> filled with zeros)"
      ],
      "metadata": {
        "id": "7mXUsqYW7LZs"
      }
    },
    {
      "cell_type": "markdown",
      "source": [
        "# Training"
      ],
      "metadata": {
        "id": "8LJazA6bzLj4"
      }
    },
    {
      "cell_type": "code",
      "source": [
        "model = keras.Sequential()\n",
        "keras.layers.Layer()\n",
        "model.add(keras.layers.LSTM(20))\n",
        "model.add(keras.layers.Dense(3, activation='sigmoid'))\n",
        "\n",
        "from sklearn.model_selection import train_test_split\n",
        "X_train, X_test, y_train, y_test = train_test_split(vectors, letters, test_size=0.2, random_state=13)\n",
        "\n",
        "model.compile(loss='binary_crossentropy',\n",
        "              optimizer='adam',\n",
        "              metrics=['accuracy'])\n",
        "model.fit(X_train, y_train,\n",
        "          epochs=10,\n",
        "          verbose=1\n",
        "          )"
      ],
      "metadata": {
        "colab": {
          "base_uri": "https://localhost:8080/"
        },
        "id": "kTv9ofXjvUFV",
        "outputId": "8c305d6b-9d99-4a28-d6be-17064a50ff26"
      },
      "execution_count": 8,
      "outputs": [
        {
          "output_type": "stream",
          "name": "stdout",
          "text": [
            "Epoch 1/10\n",
            "450/450 [==============================] - 8s 12ms/step - loss: 0.6419 - accuracy: 0.3646\n",
            "Epoch 2/10\n",
            "450/450 [==============================] - 7s 15ms/step - loss: 0.6316 - accuracy: 0.3638\n",
            "Epoch 3/10\n",
            "450/450 [==============================] - 5s 12ms/step - loss: 0.6290 - accuracy: 0.3942\n",
            "Epoch 4/10\n",
            "450/450 [==============================] - 6s 14ms/step - loss: 0.6276 - accuracy: 0.3872\n",
            "Epoch 5/10\n",
            "450/450 [==============================] - 6s 13ms/step - loss: 0.6233 - accuracy: 0.4072\n",
            "Epoch 6/10\n",
            "450/450 [==============================] - 6s 13ms/step - loss: 0.6213 - accuracy: 0.4148\n",
            "Epoch 7/10\n",
            "450/450 [==============================] - 7s 16ms/step - loss: 0.6221 - accuracy: 0.3955\n",
            "Epoch 8/10\n",
            "450/450 [==============================] - 6s 12ms/step - loss: 0.6198 - accuracy: 0.4041\n",
            "Epoch 9/10\n",
            "450/450 [==============================] - 7s 16ms/step - loss: 0.6192 - accuracy: 0.4265\n",
            "Epoch 10/10\n",
            "450/450 [==============================] - 6s 13ms/step - loss: 0.6187 - accuracy: 0.4226\n"
          ]
        },
        {
          "output_type": "execute_result",
          "data": {
            "text/plain": [
              "<keras.callbacks.History at 0x7fb1e62ce5e0>"
            ]
          },
          "metadata": {},
          "execution_count": 8
        }
      ]
    },
    {
      "cell_type": "code",
      "source": [
        "score, acc = model.evaluate(X_test, y_test)"
      ],
      "metadata": {
        "colab": {
          "base_uri": "https://localhost:8080/"
        },
        "id": "uulrW6r7va9i",
        "outputId": "d5aa5a7b-7aab-40d1-9798-68f3bf15d849"
      },
      "execution_count": 9,
      "outputs": [
        {
          "output_type": "stream",
          "name": "stdout",
          "text": [
            "113/113 [==============================] - 4s 8ms/step - loss: 0.6185 - accuracy: 0.4261\n"
          ]
        }
      ]
    },
    {
      "cell_type": "markdown",
      "source": [
        "# Prediction"
      ],
      "metadata": {
        "id": "ipPfs5lt_Ew5"
      }
    },
    {
      "cell_type": "markdown",
      "source": [
        "Wir lesen die CSV Tabelle und die passende H5 Datei ein:"
      ],
      "metadata": {
        "id": "AtCv0ehYTKjq"
      }
    },
    {
      "cell_type": "code",
      "source": [
        "timestamps = data_reader.get_timestamps('/content/drive/My Drive/Colab Notebooks/data/sub001/timestamps/sub001_2drt_01_vcv1_r1_recon.csv')\n",
        "timestamps"
      ],
      "metadata": {
        "colab": {
          "base_uri": "https://localhost:8080/",
          "height": 1000
        },
        "id": "EzUoc95A_EIV",
        "outputId": "32287c2a-ed21-4a96-b9fb-58c8a173e2d5"
      },
      "execution_count": 10,
      "outputs": [
        {
          "output_type": "execute_result",
          "data": {
            "text/plain": [
              "   Buchstabe  Buchstabenr.        Timestamp start         Timestamp ende  \\\n",
              "0          A             1 0 days 00:00:01.726000 0 days 00:00:02.348000   \n",
              "1          A             2 0 days 00:00:02.605000 0 days 00:00:03.079000   \n",
              "2          O             1 0 days 00:00:04.369000 0 days 00:00:04.644000   \n",
              "3          O             2 0 days 00:00:04.844000 0 days 00:00:05.293000   \n",
              "4          E             1 0 days 00:00:06.452000 0 days 00:00:06.720000   \n",
              "5          E             2 0 days 00:00:06.889000 0 days 00:00:07.336000   \n",
              "6          A             3 0 days 00:00:08.342000 0 days 00:00:08.567000   \n",
              "7          A             4 0 days 00:00:08.822000 0 days 00:00:09.348000   \n",
              "8          O             3 0 days 00:00:10.435000 0 days 00:00:10.522000   \n",
              "9          O             4 0 days 00:00:10.773000 0 days 00:00:11.216000   \n",
              "10         E             3 0 days 00:00:12.608000 0 days 00:00:12.631000   \n",
              "11         E             4 0 days 00:00:12.924000 0 days 00:00:13.454000   \n",
              "12         A             5 0 days 00:00:14.387000 0 days 00:00:14.683000   \n",
              "13         A             6 0 days 00:00:14.833000 0 days 00:00:15.301000   \n",
              "14         O             5 0 days 00:00:16.434000 0 days 00:00:16.628000   \n",
              "15         O             6 0 days 00:00:17.023000 0 days 00:00:17.623000   \n",
              "16         E             5 0 days 00:00:18.714000 0 days 00:00:18.911000   \n",
              "17         E             6 0 days 00:00:18.922000 0 days 00:00:19.875000   \n",
              "18         A             7 0 days 00:00:20.442000 0 days 00:00:20.885000   \n",
              "19         A             8 0 days 00:00:21.212000 0 days 00:00:21.684000   \n",
              "20         O             7 0 days 00:00:22.784000 0 days 00:00:22.935000   \n",
              "21         O             8 0 days 00:00:23.190000 0 days 00:00:23.733000   \n",
              "22         E             7 0 days 00:00:24.628000 0 days 00:00:24.928000   \n",
              "23         E             8 0 days 00:00:25.134000 0 days 00:00:25.725000   \n",
              "24         A             9 0 days 00:00:26.482000 0 days 00:00:26.823000   \n",
              "25         A            10 0 days 00:00:27.161000 0 days 00:00:27.703000   \n",
              "26         O             9 0 days 00:00:28.618000 0 days 00:00:28.981000   \n",
              "27         O            10 0 days 00:00:29.246000 0 days 00:00:29.787000   \n",
              "28         E             9 0 days 00:00:30.746000 0 days 00:00:31.145000   \n",
              "29         E            10 0 days 00:00:31.283000 0 days 00:00:31.873000   \n",
              "30         A            11 0 days 00:00:32.778000 0 days 00:00:33.029000   \n",
              "31         A            12 0 days 00:00:33.333000 0 days 00:00:33.675000   \n",
              "32         O            11 0 days 00:00:34.742000 0 days 00:00:35.176000   \n",
              "33         O            12 0 days 00:00:35.428000 0 days 00:00:35.854000   \n",
              "34         E            11 0 days 00:00:36.662000 0 days 00:00:37.075000   \n",
              "35         E            12 0 days 00:00:37.360000 0 days 00:00:37.818000   \n",
              "\n",
              "    first_frame  last_frame  \n",
              "0         143.0       195.0  \n",
              "1         216.0       256.0  \n",
              "2         363.0       386.0  \n",
              "3         403.0       440.0  \n",
              "4         537.0       559.0  \n",
              "5         573.0       610.0  \n",
              "6         694.0       713.0  \n",
              "7         734.0       778.0  \n",
              "8         869.0       876.0  \n",
              "9         897.0       934.0  \n",
              "10       1049.0      1051.0  \n",
              "11       1076.0      1120.0  \n",
              "12       1198.0      1222.0  \n",
              "13       1235.0      1274.0  \n",
              "14       1368.0      1384.0  \n",
              "15       1417.0      1467.0  \n",
              "16       1558.0      1574.0  \n",
              "17       1575.0      1655.0  \n",
              "18       1702.0      1739.0  \n",
              "19       1766.0      1805.0  \n",
              "20       1897.0      1910.0  \n",
              "21       1931.0      1976.0  \n",
              "22       2051.0      2076.0  \n",
              "23       2093.0      2142.0  \n",
              "24       2205.0      2233.0  \n",
              "25       2261.0      2307.0  \n",
              "26       2383.0      2413.0  \n",
              "27       2435.0      2480.0  \n",
              "28       2560.0      2593.0  \n",
              "29       2605.0      2654.0  \n",
              "30       2729.0      2750.0  \n",
              "31       2775.0      2804.0  \n",
              "32       2893.0      2929.0  \n",
              "33       2950.0      2985.0  \n",
              "34       3053.0      3087.0  \n",
              "35       3111.0      3149.0  "
            ],
            "text/html": [
              "\n",
              "  <div id=\"df-3d6639bd-8901-4d81-983a-50bf98a58ec8\">\n",
              "    <div class=\"colab-df-container\">\n",
              "      <div>\n",
              "<style scoped>\n",
              "    .dataframe tbody tr th:only-of-type {\n",
              "        vertical-align: middle;\n",
              "    }\n",
              "\n",
              "    .dataframe tbody tr th {\n",
              "        vertical-align: top;\n",
              "    }\n",
              "\n",
              "    .dataframe thead th {\n",
              "        text-align: right;\n",
              "    }\n",
              "</style>\n",
              "<table border=\"1\" class=\"dataframe\">\n",
              "  <thead>\n",
              "    <tr style=\"text-align: right;\">\n",
              "      <th></th>\n",
              "      <th>Buchstabe</th>\n",
              "      <th>Buchstabenr.</th>\n",
              "      <th>Timestamp start</th>\n",
              "      <th>Timestamp ende</th>\n",
              "      <th>first_frame</th>\n",
              "      <th>last_frame</th>\n",
              "    </tr>\n",
              "  </thead>\n",
              "  <tbody>\n",
              "    <tr>\n",
              "      <th>0</th>\n",
              "      <td>A</td>\n",
              "      <td>1</td>\n",
              "      <td>0 days 00:00:01.726000</td>\n",
              "      <td>0 days 00:00:02.348000</td>\n",
              "      <td>143.0</td>\n",
              "      <td>195.0</td>\n",
              "    </tr>\n",
              "    <tr>\n",
              "      <th>1</th>\n",
              "      <td>A</td>\n",
              "      <td>2</td>\n",
              "      <td>0 days 00:00:02.605000</td>\n",
              "      <td>0 days 00:00:03.079000</td>\n",
              "      <td>216.0</td>\n",
              "      <td>256.0</td>\n",
              "    </tr>\n",
              "    <tr>\n",
              "      <th>2</th>\n",
              "      <td>O</td>\n",
              "      <td>1</td>\n",
              "      <td>0 days 00:00:04.369000</td>\n",
              "      <td>0 days 00:00:04.644000</td>\n",
              "      <td>363.0</td>\n",
              "      <td>386.0</td>\n",
              "    </tr>\n",
              "    <tr>\n",
              "      <th>3</th>\n",
              "      <td>O</td>\n",
              "      <td>2</td>\n",
              "      <td>0 days 00:00:04.844000</td>\n",
              "      <td>0 days 00:00:05.293000</td>\n",
              "      <td>403.0</td>\n",
              "      <td>440.0</td>\n",
              "    </tr>\n",
              "    <tr>\n",
              "      <th>4</th>\n",
              "      <td>E</td>\n",
              "      <td>1</td>\n",
              "      <td>0 days 00:00:06.452000</td>\n",
              "      <td>0 days 00:00:06.720000</td>\n",
              "      <td>537.0</td>\n",
              "      <td>559.0</td>\n",
              "    </tr>\n",
              "    <tr>\n",
              "      <th>5</th>\n",
              "      <td>E</td>\n",
              "      <td>2</td>\n",
              "      <td>0 days 00:00:06.889000</td>\n",
              "      <td>0 days 00:00:07.336000</td>\n",
              "      <td>573.0</td>\n",
              "      <td>610.0</td>\n",
              "    </tr>\n",
              "    <tr>\n",
              "      <th>6</th>\n",
              "      <td>A</td>\n",
              "      <td>3</td>\n",
              "      <td>0 days 00:00:08.342000</td>\n",
              "      <td>0 days 00:00:08.567000</td>\n",
              "      <td>694.0</td>\n",
              "      <td>713.0</td>\n",
              "    </tr>\n",
              "    <tr>\n",
              "      <th>7</th>\n",
              "      <td>A</td>\n",
              "      <td>4</td>\n",
              "      <td>0 days 00:00:08.822000</td>\n",
              "      <td>0 days 00:00:09.348000</td>\n",
              "      <td>734.0</td>\n",
              "      <td>778.0</td>\n",
              "    </tr>\n",
              "    <tr>\n",
              "      <th>8</th>\n",
              "      <td>O</td>\n",
              "      <td>3</td>\n",
              "      <td>0 days 00:00:10.435000</td>\n",
              "      <td>0 days 00:00:10.522000</td>\n",
              "      <td>869.0</td>\n",
              "      <td>876.0</td>\n",
              "    </tr>\n",
              "    <tr>\n",
              "      <th>9</th>\n",
              "      <td>O</td>\n",
              "      <td>4</td>\n",
              "      <td>0 days 00:00:10.773000</td>\n",
              "      <td>0 days 00:00:11.216000</td>\n",
              "      <td>897.0</td>\n",
              "      <td>934.0</td>\n",
              "    </tr>\n",
              "    <tr>\n",
              "      <th>10</th>\n",
              "      <td>E</td>\n",
              "      <td>3</td>\n",
              "      <td>0 days 00:00:12.608000</td>\n",
              "      <td>0 days 00:00:12.631000</td>\n",
              "      <td>1049.0</td>\n",
              "      <td>1051.0</td>\n",
              "    </tr>\n",
              "    <tr>\n",
              "      <th>11</th>\n",
              "      <td>E</td>\n",
              "      <td>4</td>\n",
              "      <td>0 days 00:00:12.924000</td>\n",
              "      <td>0 days 00:00:13.454000</td>\n",
              "      <td>1076.0</td>\n",
              "      <td>1120.0</td>\n",
              "    </tr>\n",
              "    <tr>\n",
              "      <th>12</th>\n",
              "      <td>A</td>\n",
              "      <td>5</td>\n",
              "      <td>0 days 00:00:14.387000</td>\n",
              "      <td>0 days 00:00:14.683000</td>\n",
              "      <td>1198.0</td>\n",
              "      <td>1222.0</td>\n",
              "    </tr>\n",
              "    <tr>\n",
              "      <th>13</th>\n",
              "      <td>A</td>\n",
              "      <td>6</td>\n",
              "      <td>0 days 00:00:14.833000</td>\n",
              "      <td>0 days 00:00:15.301000</td>\n",
              "      <td>1235.0</td>\n",
              "      <td>1274.0</td>\n",
              "    </tr>\n",
              "    <tr>\n",
              "      <th>14</th>\n",
              "      <td>O</td>\n",
              "      <td>5</td>\n",
              "      <td>0 days 00:00:16.434000</td>\n",
              "      <td>0 days 00:00:16.628000</td>\n",
              "      <td>1368.0</td>\n",
              "      <td>1384.0</td>\n",
              "    </tr>\n",
              "    <tr>\n",
              "      <th>15</th>\n",
              "      <td>O</td>\n",
              "      <td>6</td>\n",
              "      <td>0 days 00:00:17.023000</td>\n",
              "      <td>0 days 00:00:17.623000</td>\n",
              "      <td>1417.0</td>\n",
              "      <td>1467.0</td>\n",
              "    </tr>\n",
              "    <tr>\n",
              "      <th>16</th>\n",
              "      <td>E</td>\n",
              "      <td>5</td>\n",
              "      <td>0 days 00:00:18.714000</td>\n",
              "      <td>0 days 00:00:18.911000</td>\n",
              "      <td>1558.0</td>\n",
              "      <td>1574.0</td>\n",
              "    </tr>\n",
              "    <tr>\n",
              "      <th>17</th>\n",
              "      <td>E</td>\n",
              "      <td>6</td>\n",
              "      <td>0 days 00:00:18.922000</td>\n",
              "      <td>0 days 00:00:19.875000</td>\n",
              "      <td>1575.0</td>\n",
              "      <td>1655.0</td>\n",
              "    </tr>\n",
              "    <tr>\n",
              "      <th>18</th>\n",
              "      <td>A</td>\n",
              "      <td>7</td>\n",
              "      <td>0 days 00:00:20.442000</td>\n",
              "      <td>0 days 00:00:20.885000</td>\n",
              "      <td>1702.0</td>\n",
              "      <td>1739.0</td>\n",
              "    </tr>\n",
              "    <tr>\n",
              "      <th>19</th>\n",
              "      <td>A</td>\n",
              "      <td>8</td>\n",
              "      <td>0 days 00:00:21.212000</td>\n",
              "      <td>0 days 00:00:21.684000</td>\n",
              "      <td>1766.0</td>\n",
              "      <td>1805.0</td>\n",
              "    </tr>\n",
              "    <tr>\n",
              "      <th>20</th>\n",
              "      <td>O</td>\n",
              "      <td>7</td>\n",
              "      <td>0 days 00:00:22.784000</td>\n",
              "      <td>0 days 00:00:22.935000</td>\n",
              "      <td>1897.0</td>\n",
              "      <td>1910.0</td>\n",
              "    </tr>\n",
              "    <tr>\n",
              "      <th>21</th>\n",
              "      <td>O</td>\n",
              "      <td>8</td>\n",
              "      <td>0 days 00:00:23.190000</td>\n",
              "      <td>0 days 00:00:23.733000</td>\n",
              "      <td>1931.0</td>\n",
              "      <td>1976.0</td>\n",
              "    </tr>\n",
              "    <tr>\n",
              "      <th>22</th>\n",
              "      <td>E</td>\n",
              "      <td>7</td>\n",
              "      <td>0 days 00:00:24.628000</td>\n",
              "      <td>0 days 00:00:24.928000</td>\n",
              "      <td>2051.0</td>\n",
              "      <td>2076.0</td>\n",
              "    </tr>\n",
              "    <tr>\n",
              "      <th>23</th>\n",
              "      <td>E</td>\n",
              "      <td>8</td>\n",
              "      <td>0 days 00:00:25.134000</td>\n",
              "      <td>0 days 00:00:25.725000</td>\n",
              "      <td>2093.0</td>\n",
              "      <td>2142.0</td>\n",
              "    </tr>\n",
              "    <tr>\n",
              "      <th>24</th>\n",
              "      <td>A</td>\n",
              "      <td>9</td>\n",
              "      <td>0 days 00:00:26.482000</td>\n",
              "      <td>0 days 00:00:26.823000</td>\n",
              "      <td>2205.0</td>\n",
              "      <td>2233.0</td>\n",
              "    </tr>\n",
              "    <tr>\n",
              "      <th>25</th>\n",
              "      <td>A</td>\n",
              "      <td>10</td>\n",
              "      <td>0 days 00:00:27.161000</td>\n",
              "      <td>0 days 00:00:27.703000</td>\n",
              "      <td>2261.0</td>\n",
              "      <td>2307.0</td>\n",
              "    </tr>\n",
              "    <tr>\n",
              "      <th>26</th>\n",
              "      <td>O</td>\n",
              "      <td>9</td>\n",
              "      <td>0 days 00:00:28.618000</td>\n",
              "      <td>0 days 00:00:28.981000</td>\n",
              "      <td>2383.0</td>\n",
              "      <td>2413.0</td>\n",
              "    </tr>\n",
              "    <tr>\n",
              "      <th>27</th>\n",
              "      <td>O</td>\n",
              "      <td>10</td>\n",
              "      <td>0 days 00:00:29.246000</td>\n",
              "      <td>0 days 00:00:29.787000</td>\n",
              "      <td>2435.0</td>\n",
              "      <td>2480.0</td>\n",
              "    </tr>\n",
              "    <tr>\n",
              "      <th>28</th>\n",
              "      <td>E</td>\n",
              "      <td>9</td>\n",
              "      <td>0 days 00:00:30.746000</td>\n",
              "      <td>0 days 00:00:31.145000</td>\n",
              "      <td>2560.0</td>\n",
              "      <td>2593.0</td>\n",
              "    </tr>\n",
              "    <tr>\n",
              "      <th>29</th>\n",
              "      <td>E</td>\n",
              "      <td>10</td>\n",
              "      <td>0 days 00:00:31.283000</td>\n",
              "      <td>0 days 00:00:31.873000</td>\n",
              "      <td>2605.0</td>\n",
              "      <td>2654.0</td>\n",
              "    </tr>\n",
              "    <tr>\n",
              "      <th>30</th>\n",
              "      <td>A</td>\n",
              "      <td>11</td>\n",
              "      <td>0 days 00:00:32.778000</td>\n",
              "      <td>0 days 00:00:33.029000</td>\n",
              "      <td>2729.0</td>\n",
              "      <td>2750.0</td>\n",
              "    </tr>\n",
              "    <tr>\n",
              "      <th>31</th>\n",
              "      <td>A</td>\n",
              "      <td>12</td>\n",
              "      <td>0 days 00:00:33.333000</td>\n",
              "      <td>0 days 00:00:33.675000</td>\n",
              "      <td>2775.0</td>\n",
              "      <td>2804.0</td>\n",
              "    </tr>\n",
              "    <tr>\n",
              "      <th>32</th>\n",
              "      <td>O</td>\n",
              "      <td>11</td>\n",
              "      <td>0 days 00:00:34.742000</td>\n",
              "      <td>0 days 00:00:35.176000</td>\n",
              "      <td>2893.0</td>\n",
              "      <td>2929.0</td>\n",
              "    </tr>\n",
              "    <tr>\n",
              "      <th>33</th>\n",
              "      <td>O</td>\n",
              "      <td>12</td>\n",
              "      <td>0 days 00:00:35.428000</td>\n",
              "      <td>0 days 00:00:35.854000</td>\n",
              "      <td>2950.0</td>\n",
              "      <td>2985.0</td>\n",
              "    </tr>\n",
              "    <tr>\n",
              "      <th>34</th>\n",
              "      <td>E</td>\n",
              "      <td>11</td>\n",
              "      <td>0 days 00:00:36.662000</td>\n",
              "      <td>0 days 00:00:37.075000</td>\n",
              "      <td>3053.0</td>\n",
              "      <td>3087.0</td>\n",
              "    </tr>\n",
              "    <tr>\n",
              "      <th>35</th>\n",
              "      <td>E</td>\n",
              "      <td>12</td>\n",
              "      <td>0 days 00:00:37.360000</td>\n",
              "      <td>0 days 00:00:37.818000</td>\n",
              "      <td>3111.0</td>\n",
              "      <td>3149.0</td>\n",
              "    </tr>\n",
              "  </tbody>\n",
              "</table>\n",
              "</div>\n",
              "      <button class=\"colab-df-convert\" onclick=\"convertToInteractive('df-3d6639bd-8901-4d81-983a-50bf98a58ec8')\"\n",
              "              title=\"Convert this dataframe to an interactive table.\"\n",
              "              style=\"display:none;\">\n",
              "        \n",
              "  <svg xmlns=\"http://www.w3.org/2000/svg\" height=\"24px\"viewBox=\"0 0 24 24\"\n",
              "       width=\"24px\">\n",
              "    <path d=\"M0 0h24v24H0V0z\" fill=\"none\"/>\n",
              "    <path d=\"M18.56 5.44l.94 2.06.94-2.06 2.06-.94-2.06-.94-.94-2.06-.94 2.06-2.06.94zm-11 1L8.5 8.5l.94-2.06 2.06-.94-2.06-.94L8.5 2.5l-.94 2.06-2.06.94zm10 10l.94 2.06.94-2.06 2.06-.94-2.06-.94-.94-2.06-.94 2.06-2.06.94z\"/><path d=\"M17.41 7.96l-1.37-1.37c-.4-.4-.92-.59-1.43-.59-.52 0-1.04.2-1.43.59L10.3 9.45l-7.72 7.72c-.78.78-.78 2.05 0 2.83L4 21.41c.39.39.9.59 1.41.59.51 0 1.02-.2 1.41-.59l7.78-7.78 2.81-2.81c.8-.78.8-2.07 0-2.86zM5.41 20L4 18.59l7.72-7.72 1.47 1.35L5.41 20z\"/>\n",
              "  </svg>\n",
              "      </button>\n",
              "      \n",
              "  <style>\n",
              "    .colab-df-container {\n",
              "      display:flex;\n",
              "      flex-wrap:wrap;\n",
              "      gap: 12px;\n",
              "    }\n",
              "\n",
              "    .colab-df-convert {\n",
              "      background-color: #E8F0FE;\n",
              "      border: none;\n",
              "      border-radius: 50%;\n",
              "      cursor: pointer;\n",
              "      display: none;\n",
              "      fill: #1967D2;\n",
              "      height: 32px;\n",
              "      padding: 0 0 0 0;\n",
              "      width: 32px;\n",
              "    }\n",
              "\n",
              "    .colab-df-convert:hover {\n",
              "      background-color: #E2EBFA;\n",
              "      box-shadow: 0px 1px 2px rgba(60, 64, 67, 0.3), 0px 1px 3px 1px rgba(60, 64, 67, 0.15);\n",
              "      fill: #174EA6;\n",
              "    }\n",
              "\n",
              "    [theme=dark] .colab-df-convert {\n",
              "      background-color: #3B4455;\n",
              "      fill: #D2E3FC;\n",
              "    }\n",
              "\n",
              "    [theme=dark] .colab-df-convert:hover {\n",
              "      background-color: #434B5C;\n",
              "      box-shadow: 0px 1px 3px 1px rgba(0, 0, 0, 0.15);\n",
              "      filter: drop-shadow(0px 1px 2px rgba(0, 0, 0, 0.3));\n",
              "      fill: #FFFFFF;\n",
              "    }\n",
              "  </style>\n",
              "\n",
              "      <script>\n",
              "        const buttonEl =\n",
              "          document.querySelector('#df-3d6639bd-8901-4d81-983a-50bf98a58ec8 button.colab-df-convert');\n",
              "        buttonEl.style.display =\n",
              "          google.colab.kernel.accessAllowed ? 'block' : 'none';\n",
              "\n",
              "        async function convertToInteractive(key) {\n",
              "          const element = document.querySelector('#df-3d6639bd-8901-4d81-983a-50bf98a58ec8');\n",
              "          const dataTable =\n",
              "            await google.colab.kernel.invokeFunction('convertToInteractive',\n",
              "                                                     [key], {});\n",
              "          if (!dataTable) return;\n",
              "\n",
              "          const docLinkHtml = 'Like what you see? Visit the ' +\n",
              "            '<a target=\"_blank\" href=https://colab.research.google.com/notebooks/data_table.ipynb>data table notebook</a>'\n",
              "            + ' to learn more about interactive tables.';\n",
              "          element.innerHTML = '';\n",
              "          dataTable['output_type'] = 'display_data';\n",
              "          await google.colab.output.renderOutput(dataTable, element);\n",
              "          const docLink = document.createElement('div');\n",
              "          docLink.innerHTML = docLinkHtml;\n",
              "          element.appendChild(docLink);\n",
              "        }\n",
              "      </script>\n",
              "    </div>\n",
              "  </div>\n",
              "  "
            ]
          },
          "metadata": {},
          "execution_count": 10
        }
      ]
    },
    {
      "cell_type": "code",
      "source": [
        "recon = data_reader.get_recon('sub001_2drt_01_vcv1_r1_recon.h5')\n",
        "recon"
      ],
      "metadata": {
        "colab": {
          "base_uri": "https://localhost:8080/"
        },
        "id": "W-MVNLL6DTyQ",
        "outputId": "172218b4-1413-47f7-aed2-5d3d9f4c5647"
      },
      "execution_count": 11,
      "outputs": [
        {
          "output_type": "execute_result",
          "data": {
            "text/plain": [
              "array([[[ 25.52947807,  19.4853611 ,  30.89460373, ...,  98.42479706,\n",
              "          44.64346695, 107.51438904],\n",
              "        [ 32.15190125,  13.87260723,  15.70765495, ..., 102.3542099 ,\n",
              "          86.98400879,  66.88175964],\n",
              "        [ 28.86750793,  18.92897797,   3.64901137, ...,  62.36549377,\n",
              "          90.75772858,  69.96509552],\n",
              "        ...,\n",
              "        [ 39.63859177,  40.24220657,  32.62986374, ...,  47.44071579,\n",
              "          75.16679382, 150.60792542],\n",
              "        [  7.83577919,  30.93974304,  37.56563187, ...,  13.19073009,\n",
              "          84.4291153 , 119.56649017],\n",
              "        [ 13.083848  ,  40.89576721,  21.82175064, ..., 137.2555542 ,\n",
              "         148.56011963,  80.77766418]],\n",
              "\n",
              "       [[ 25.62266159,  19.44618225,  30.86223984, ...,  98.21442413,\n",
              "          44.60578537, 107.47366333],\n",
              "        [ 32.05347824,  13.85059452,  15.73060513, ..., 102.25723267,\n",
              "          86.92198944,  66.85616302],\n",
              "        [ 28.90059662,  19.00435066,   3.6461184 , ...,  62.19660187,\n",
              "          90.79077148,  69.95095062],\n",
              "        ...,\n",
              "        [ 39.62519836,  40.1516037 ,  32.58160019, ...,  47.47135544,\n",
              "          75.15853119, 150.53178406],\n",
              "        [  7.67332315,  30.94874382,  37.50126648, ...,  32.75671387,\n",
              "          90.01951599, 119.62747955],\n",
              "        [ 12.91522789,  40.81202316,  21.75992775, ..., 137.2091217 ,\n",
              "         148.53024292,  84.89109802]],\n",
              "\n",
              "       [[ 25.40048027,  19.47122955,  30.82759094, ...,  97.68916321,\n",
              "          44.62519455, 107.43458557],\n",
              "        [ 32.09611893,  13.93411827,  15.6770153 , ..., 102.30749512,\n",
              "          86.88383484,  66.76266479],\n",
              "        [ 28.84109879,  19.05103302,   3.67108989, ...,  62.35722733,\n",
              "          90.75376892,  69.68783569],\n",
              "        ...,\n",
              "        [ 39.6768837 ,  40.12990189,  32.59405136, ...,  47.54513931,\n",
              "          75.20189667, 150.54864502],\n",
              "        [  7.60053492,  30.88942528,  37.58560562, ...,  50.89525986,\n",
              "         105.06154633, 119.60702515],\n",
              "        [ 12.74856853,  40.78367996,  21.76836014, ..., 137.27294922,\n",
              "         148.53878784,  84.93359375]],\n",
              "\n",
              "       ...,\n",
              "\n",
              "       [[ 33.55508804,  26.61139297,   3.97012162, ...,  39.03612137,\n",
              "          47.22251511,  66.02907562],\n",
              "        [ 35.61007309,  67.57669067,   6.3155117 , ...,  33.27211761,\n",
              "          20.77278519,  20.05498123],\n",
              "        [ 24.59366798,  21.08105659,   7.96689224, ...,  43.75956726,\n",
              "          83.90542603,  21.45178223],\n",
              "        ...,\n",
              "        [ 21.79308319,  17.36608124,  24.90935898, ...,  53.16335297,\n",
              "          31.25572205,  47.24720383],\n",
              "        [ 40.33285522,  23.77087593,  12.62090111, ...,  13.24216175,\n",
              "          45.05672836,  80.29871368],\n",
              "        [ 17.80965614,  16.795681  ,  20.23392487, ...,  65.06567383,\n",
              "          67.51241302, 109.82880402]],\n",
              "\n",
              "       [[ 33.58290482,  26.60123825,   4.00273514, ...,  39.1163559 ,\n",
              "          47.27058411,  65.99968719],\n",
              "        [ 35.65288925,  67.56275177,   6.36772919, ...,  33.2725563 ,\n",
              "          20.74829865,  19.8327179 ],\n",
              "        [ 24.61559105,  21.1378231 ,   7.99482059, ...,  43.76887131,\n",
              "          83.85782623,  21.41171074],\n",
              "        ...,\n",
              "        [ 21.70031738,  17.30547333,  24.75547218, ...,  53.17790222,\n",
              "          31.48794746,  47.15939713],\n",
              "        [ 40.30786514,  23.78447151,  12.63555527, ...,   9.86517525,\n",
              "          44.95729828,  80.19483948],\n",
              "        [ 17.80953789,  16.75621223,  20.18431664, ...,  65.14263916,\n",
              "          67.50763702, 109.93467712]],\n",
              "\n",
              "       [[ 33.60422897,  26.6687336 ,   4.00054979, ...,  39.17445755,\n",
              "          47.27281189,  66.10151672],\n",
              "        [ 35.62147903,  67.67823792,   6.26396465, ...,  33.25535965,\n",
              "          20.87230873,  19.74219704],\n",
              "        [ 24.56565094,  21.10549545,   7.9933815 , ...,  43.78623962,\n",
              "          84.04803467,  21.47246933],\n",
              "        ...,\n",
              "        [ 21.63162804,  17.31472588,  24.88571358, ...,  53.19591904,\n",
              "          31.43272972,  47.16313934],\n",
              "        [ 40.31605911,  23.91735268,  12.61468601, ...,   9.86853981,\n",
              "          44.90785599,  80.13179779],\n",
              "        [ 17.72342491,  16.79617119,  20.38973045, ...,  65.24302673,\n",
              "          67.4932251 , 109.89453125]]])"
            ]
          },
          "metadata": {},
          "execution_count": 11
        }
      ]
    },
    {
      "cell_type": "markdown",
      "source": [
        "Wir erstellen die Vektoren:"
      ],
      "metadata": {
        "id": "hE2QVHZITqoE"
      }
    },
    {
      "cell_type": "code",
      "source": [
        "vectorizer = Vectorizer(recon, timestamps)\n",
        "rel = vectorizer._Vectorizer__get_vectors_relative_position(0)\n",
        "abss = vectorizer._Vectorizer__get_vectors_absolute_position(rel,0)\n",
        "mask = vectorizer._Vectorizer__get_mask(abss)"
      ],
      "metadata": {
        "id": "rICmU1OLFiBJ"
      },
      "execution_count": 12,
      "outputs": []
    },
    {
      "cell_type": "code",
      "source": [
        "img = np.ma.masked_array(recon[int(timestamps['first_frame'][0])], np.logical_not(mask))\n",
        "plt.imshow(img, cmap=\"Greys_r\")"
      ],
      "metadata": {
        "colab": {
          "base_uri": "https://localhost:8080/",
          "height": 286
        },
        "id": "ZVn9HMXTJq5O",
        "outputId": "aca675cf-4c3e-4d82-b101-e4646abb48ef"
      },
      "execution_count": 13,
      "outputs": [
        {
          "output_type": "execute_result",
          "data": {
            "text/plain": [
              "<matplotlib.image.AxesImage at 0x7fb1727895b0>"
            ]
          },
          "metadata": {},
          "execution_count": 13
        },
        {
          "output_type": "display_data",
          "data": {
            "text/plain": [
              "<Figure size 432x288 with 1 Axes>"
            ],
            "image/png": "[encoded data removed]"
          },
          "metadata": {
            "needs_background": "light"
          }
        }
      ]
    },
    {
      "cell_type": "markdown",
      "source": [
        "Erster Buchstabe der Datei zum testen verwenden -> Buchstabe A"
      ],
      "metadata": {
        "id": "aZb5niQ2T2BI"
      }
    },
    {
      "cell_type": "code",
      "source": [
        "timestamps.iloc[0]"
      ],
      "metadata": {
        "colab": {
          "base_uri": "https://localhost:8080/"
        },
        "id": "Y-zRMG7VCsgO",
        "outputId": "d30baffc-2013-4dd9-80b6-31d05d6feecd"
      },
      "execution_count": 14,
      "outputs": [
        {
          "output_type": "execute_result",
          "data": {
            "text/plain": [
              "Buchstabe                               A\n",
              "Buchstabenr.                            1\n",
              "Timestamp start    0 days 00:00:01.726000\n",
              "Timestamp ende     0 days 00:00:02.348000\n",
              "first_frame                         143.0\n",
              "last_frame                          195.0\n",
              "Name: 0, dtype: object"
            ]
          },
          "metadata": {},
          "execution_count": 14
        }
      ]
    },
    {
      "cell_type": "markdown",
      "source": [
        "Wir erhalten alle Vektoren des Buchstaben:"
      ],
      "metadata": {
        "id": "CoLazQwzUEIl"
      }
    },
    {
      "cell_type": "code",
      "source": [
        "vector=vectorizer._Vectorizer__get_pixel_data(abss,first_frame=int(timestamps['first_frame'][0]), last_frame= int(timestamps['last_frame'][0]))"
      ],
      "metadata": {
        "id": "83aFCyzWK3DL"
      },
      "execution_count": 15,
      "outputs": []
    },
    {
      "cell_type": "code",
      "source": [
        "vector.shape #(Vektoren,pixel,frames)"
      ],
      "metadata": {
        "colab": {
          "base_uri": "https://localhost:8080/"
        },
        "id": "od6KapjeMO7r",
        "outputId": "64c09e0b-4ec6-4a2b-bd07-7c92c659ff61"
      },
      "execution_count": 16,
      "outputs": [
        {
          "output_type": "execute_result",
          "data": {
            "text/plain": [
              "(7, 20, 52)"
            ]
          },
          "metadata": {},
          "execution_count": 16
        }
      ]
    },
    {
      "cell_type": "code",
      "source": [
        "vector = np.expand_dims(vector, axis=0) #damit es in das Modell gegeben werden kann muss noch die Dimension angepasst werden"
      ],
      "metadata": {
        "id": "2y2u5YBeQsTf"
      },
      "execution_count": 17,
      "outputs": []
    },
    {
      "cell_type": "code",
      "source": [
        "vector.shape #1 Ist also die Anzahl der Buchstaben in unseren Daten"
      ],
      "metadata": {
        "colab": {
          "base_uri": "https://localhost:8080/"
        },
        "id": "MsmKnyNORs2v",
        "outputId": "36f1c4ee-b5bc-4a07-b9bb-967578a121d0"
      },
      "execution_count": 18,
      "outputs": [
        {
          "output_type": "execute_result",
          "data": {
            "text/plain": [
              "(1, 7, 20, 52)"
            ]
          },
          "metadata": {},
          "execution_count": 18
        }
      ]
    },
    {
      "cell_type": "code",
      "source": [
        "vector = data_preparer.make_numpy(vector,length) #vektorenlänge muss auch mit den anderen Vektoren die im Training ins Modell gegeben wurden angepasst"
      ],
      "metadata": {
        "id": "kvPb70SVPyTu"
      },
      "execution_count": 19,
      "outputs": []
    },
    {
      "cell_type": "code",
      "source": [
        "vector.shape"
      ],
      "metadata": {
        "colab": {
          "base_uri": "https://localhost:8080/"
        },
        "id": "bsZWqL4qQJN1",
        "outputId": "e8c74318-be87-4057-e177-e598123e6287"
      },
      "execution_count": 20,
      "outputs": [
        {
          "output_type": "execute_result",
          "data": {
            "text/plain": [
              "(1, 7, 1860)"
            ]
          },
          "metadata": {},
          "execution_count": 20
        }
      ]
    },
    {
      "cell_type": "code",
      "source": [
        "letter = model.predict(vector, verbose=1)"
      ],
      "metadata": {
        "colab": {
          "base_uri": "https://localhost:8080/"
        },
        "id": "iJMV0s5P_buW",
        "outputId": "8fd5a96d-cbc9-4e84-8030-d2d9a04d9ac3"
      },
      "execution_count": 21,
      "outputs": [
        {
          "output_type": "stream",
          "name": "stdout",
          "text": [
            "1/1 [==============================] - 0s 461ms/step\n"
          ]
        }
      ]
    },
    {
      "cell_type": "code",
      "source": [
        "letter"
      ],
      "metadata": {
        "colab": {
          "base_uri": "https://localhost:8080/"
        },
        "id": "ato0dhVJ_3j_",
        "outputId": "0bca78b4-ab18-4bfe-f6c5-61d021ba4c3b"
      },
      "execution_count": 22,
      "outputs": [
        {
          "output_type": "execute_result",
          "data": {
            "text/plain": [
              "array([[0.34973946, 0.29243365, 0.3713545 ]], dtype=float32)"
            ]
          },
          "metadata": {},
          "execution_count": 22
        }
      ]
    }
  ]
}