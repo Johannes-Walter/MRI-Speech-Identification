{
 "cells": [
  {
   "cell_type": "code",
   "execution_count": 1,
   "metadata": {},
   "outputs": [],
   "source": [
    "import data_preparer\n",
    "import keras\n",
    "import numpy as np"
   ]
  },
  {
   "cell_type": "code",
   "execution_count": 2,
   "metadata": {},
   "outputs": [],
   "source": [
    "# Setup traing data\n",
    "vectors, letters = data_preparer.get_randomized_vectors(100)\n",
    "x_validate, y_validate = data_preparer.get_default_vectors()\n",
    "length = data_preparer.get_max_frames()\n",
    "\n",
    "vectors = data_preparer.make_numpy(vectors, length)\n",
    "x_validate = data_preparer.make_numpy(x_validate, length)"
   ]
  },
  {
   "cell_type": "code",
   "execution_count": 3,
   "metadata": {},
   "outputs": [],
   "source": [
    "items = set(letters)\n",
    "items.update(y_validate)\n",
    "\n",
    "items = {\n",
    "    item: idx\n",
    "    for idx, item in enumerate(items)\n",
    "}\n",
    "\n",
    "for idx, item in enumerate(letters):\n",
    "    letters[idx] = items[item]\n",
    "for idx, item in enumerate(y_validate):\n",
    "    y_validate[idx] = items[item]"
   ]
  },
  {
   "cell_type": "code",
   "execution_count": 4,
   "metadata": {},
   "outputs": [],
   "source": [
    "letters = np.array(letters)\n",
    "letters = keras.utils.to_categorical(letters)\n",
    "y_validate = np.array(y_validate)\n",
    "y_validate = keras.utils.to_categorical(y_validate)"
   ]
  },
  {
   "cell_type": "code",
   "execution_count": 5,
   "metadata": {},
   "outputs": [
    {
     "name": "stdout",
     "output_type": "stream",
     "text": [
      "Epoch 1/25\n",
      "450/450 [==============================] - 2s 2ms/step - loss: 0.6223 - accuracy: 0.4560\n",
      "Epoch 2/25\n",
      "450/450 [==============================] - 1s 2ms/step - loss: 0.5826 - accuracy: 0.5733\n",
      "Epoch 3/25\n",
      "450/450 [==============================] - 1s 2ms/step - loss: 0.5697 - accuracy: 0.5598\n",
      "Epoch 4/25\n",
      "450/450 [==============================] - 1s 2ms/step - loss: 0.5483 - accuracy: 0.5730\n",
      "Epoch 5/25\n",
      "450/450 [==============================] - 1s 2ms/step - loss: 0.5606 - accuracy: 0.5394\n",
      "Epoch 6/25\n",
      "450/450 [==============================] - 1s 2ms/step - loss: 0.5441 - accuracy: 0.5610\n",
      "Epoch 7/25\n",
      "450/450 [==============================] - 1s 2ms/step - loss: 0.5337 - accuracy: 0.5701\n",
      "Epoch 8/25\n",
      "450/450 [==============================] - 1s 2ms/step - loss: 0.5240 - accuracy: 0.5933\n",
      "Epoch 9/25\n",
      "450/450 [==============================] - 1s 2ms/step - loss: 0.5308 - accuracy: 0.5716\n",
      "Epoch 10/25\n",
      "450/450 [==============================] - 1s 2ms/step - loss: 0.5132 - accuracy: 0.5801\n",
      "Epoch 11/25\n",
      "450/450 [==============================] - 1s 2ms/step - loss: 0.5065 - accuracy: 0.5844\n",
      "Epoch 12/25\n",
      "450/450 [==============================] - 1s 2ms/step - loss: 0.5356 - accuracy: 0.5484\n",
      "Epoch 13/25\n",
      "450/450 [==============================] - 1s 2ms/step - loss: 0.5002 - accuracy: 0.6037\n",
      "Epoch 14/25\n",
      "450/450 [==============================] - 1s 2ms/step - loss: 0.5016 - accuracy: 0.5926\n",
      "Epoch 15/25\n",
      "450/450 [==============================] - 1s 2ms/step - loss: 0.5016 - accuracy: 0.6029\n",
      "Epoch 16/25\n",
      "450/450 [==============================] - 1s 2ms/step - loss: 0.5107 - accuracy: 0.5906\n",
      "Epoch 17/25\n",
      "450/450 [==============================] - 1s 2ms/step - loss: 0.4879 - accuracy: 0.6236\n",
      "Epoch 18/25\n",
      "450/450 [==============================] - 1s 2ms/step - loss: 0.5164 - accuracy: 0.5982\n",
      "Epoch 19/25\n",
      "450/450 [==============================] - 1s 2ms/step - loss: 0.5368 - accuracy: 0.5599\n",
      "Epoch 20/25\n",
      "450/450 [==============================] - 1s 2ms/step - loss: 0.5109 - accuracy: 0.5955\n",
      "Epoch 21/25\n",
      "450/450 [==============================] - 1s 2ms/step - loss: 0.4983 - accuracy: 0.6001\n",
      "Epoch 22/25\n",
      "450/450 [==============================] - 1s 2ms/step - loss: 0.4899 - accuracy: 0.6162\n",
      "Epoch 23/25\n",
      "450/450 [==============================] - 1s 2ms/step - loss: 0.4886 - accuracy: 0.6326\n",
      "Epoch 24/25\n",
      "450/450 [==============================] - 1s 2ms/step - loss: 0.4873 - accuracy: 0.6007\n",
      "Epoch 25/25\n",
      "450/450 [==============================] - 1s 2ms/step - loss: 0.4845 - accuracy: 0.6046\n"
     ]
    },
    {
     "data": {
      "text/plain": [
       "<keras.callbacks.History at 0x126614f8400>"
      ]
     },
     "execution_count": 5,
     "metadata": {},
     "output_type": "execute_result"
    }
   ],
   "source": [
    "model = keras.Sequential()\n",
    "keras.layers.Layer()\n",
    "model.add(keras.layers.LSTM(20))\n",
    "model.add(keras.layers.Dense(3, activation='sigmoid'))\n",
    "\n",
    "from sklearn.model_selection import train_test_split\n",
    "X_train, X_test, y_train, y_test = train_test_split(vectors, letters, test_size=0.2, random_state=13)\n",
    "\n",
    "model.compile(loss='binary_crossentropy',\n",
    "              optimizer='adam',\n",
    "              metrics=['accuracy'])\n",
    "model.fit(X_train, y_train,\n",
    "          epochs=30,\n",
    "          verbose=1\n",
    "          )"
   ]
  },
  {
   "cell_type": "code",
   "execution_count": 6,
   "metadata": {},
   "outputs": [
    {
     "name": "stdout",
     "output_type": "stream",
     "text": [
      "6/6 [==============================] - 0s 2ms/step - loss: 0.8441 - accuracy: 0.3833\n"
     ]
    }
   ],
   "source": [
    "\n",
    "score, acc = model.evaluate(x_validate, y_validate)"
   ]
  },
  {
   "cell_type": "code",
   "execution_count": 8,
   "metadata": {},
   "outputs": [
    {
     "name": "stdout",
     "output_type": "stream",
     "text": [
      "Num GPUs Available:  0\n"
     ]
    }
   ],
   "source": [
    "import tensorflow as tf\n",
    "print(\"Num GPUs Available: \", len(tf.config.list_physical_devices('GPU')))"
   ]
  }
 ],
 "metadata": {
  "kernelspec": {
   "display_name": "NLP_paper",
   "language": "python",
   "name": "python3"
  },
  "language_info": {
   "codemirror_mode": {
    "name": "ipython",
    "version": 3
   },
   "file_extension": ".py",
   "mimetype": "text/x-python",
   "name": "python",
   "nbconvert_exporter": "python",
   "pygments_lexer": "ipython3",
   "version": "3.9.13"
  },
  "orig_nbformat": 4
 },
 "nbformat": 4,
 "nbformat_minor": 2
}
