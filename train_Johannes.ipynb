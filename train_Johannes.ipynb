{
 "cells": [
  {
   "cell_type": "code",
   "execution_count": 1,
   "metadata": {},
   "outputs": [],
   "source": [
    "import data_preparer\n",
    "import keras\n",
    "import numpy as np"
   ]
  },
  {
   "cell_type": "code",
   "execution_count": 2,
   "metadata": {},
   "outputs": [],
   "source": [
    "# Setup traing data\n",
    "vectors, letters = data_preparer.get_randomized_vectors(100)\n",
    "# vectors, letters = data_preparer.get_default_vectors()\n",
    "length = data_preparer.get_max_frames()\n",
    "\n",
    "vectors = data_preparer.make_numpy(vectors, length)"
   ]
  },
  {
   "cell_type": "code",
   "execution_count": 3,
   "metadata": {},
   "outputs": [],
   "source": [
    "items = set(letters)\n",
    "items = {\n",
    "    item: idx\n",
    "    for idx, item in enumerate(items)\n",
    "}\n",
    "\n",
    "for idx, item in enumerate(letters):\n",
    "    letters[idx] = items[item]"
   ]
  },
  {
   "cell_type": "code",
   "execution_count": 4,
   "metadata": {},
   "outputs": [],
   "source": [
    "letters = np.array(letters)\n",
    "letters = keras.utils.to_categorical(letters)"
   ]
  },
  {
   "cell_type": "code",
   "execution_count": 20,
   "metadata": {},
   "outputs": [
    {
     "name": "stdout",
     "output_type": "stream",
     "text": [
      "Epoch 1/30\n",
      "450/450 [==============================] - 2s 2ms/step - loss: 0.6334 - accuracy: 0.3785\n",
      "Epoch 2/30\n",
      "450/450 [==============================] - 1s 2ms/step - loss: 0.6333 - accuracy: 0.3801\n",
      "Epoch 3/30\n",
      "450/450 [==============================] - 1s 2ms/step - loss: 0.6331 - accuracy: 0.3663\n",
      "Epoch 4/30\n",
      "450/450 [==============================] - 1s 2ms/step - loss: 0.6321 - accuracy: 0.3617\n",
      "Epoch 5/30\n",
      "450/450 [==============================] - 1s 2ms/step - loss: 0.6321 - accuracy: 0.3564\n",
      "Epoch 6/30\n",
      "450/450 [==============================] - 1s 2ms/step - loss: 0.6307 - accuracy: 0.3766\n",
      "Epoch 7/30\n",
      "450/450 [==============================] - 1s 2ms/step - loss: 0.6284 - accuracy: 0.3719\n",
      "Epoch 8/30\n",
      "450/450 [==============================] - 1s 2ms/step - loss: 0.6274 - accuracy: 0.3699\n",
      "Epoch 9/30\n",
      "450/450 [==============================] - 1s 2ms/step - loss: 0.6257 - accuracy: 0.3790\n",
      "Epoch 10/30\n",
      "450/450 [==============================] - 1s 2ms/step - loss: 0.6294 - accuracy: 0.3634\n",
      "Epoch 11/30\n",
      "450/450 [==============================] - 1s 2ms/step - loss: 0.6261 - accuracy: 0.3692\n",
      "Epoch 12/30\n",
      "450/450 [==============================] - 1s 2ms/step - loss: 0.6235 - accuracy: 0.3874\n",
      "Epoch 13/30\n",
      "450/450 [==============================] - 1s 2ms/step - loss: 0.6222 - accuracy: 0.3970\n",
      "Epoch 14/30\n",
      "450/450 [==============================] - 1s 2ms/step - loss: 0.6224 - accuracy: 0.3969\n",
      "Epoch 15/30\n",
      "450/450 [==============================] - 1s 2ms/step - loss: 0.6214 - accuracy: 0.4142\n",
      "Epoch 16/30\n",
      "450/450 [==============================] - 1s 2ms/step - loss: 0.6204 - accuracy: 0.4010\n",
      "Epoch 17/30\n",
      "450/450 [==============================] - 1s 2ms/step - loss: 0.6191 - accuracy: 0.4143\n",
      "Epoch 18/30\n",
      "450/450 [==============================] - 1s 3ms/step - loss: 0.6179 - accuracy: 0.4224\n",
      "Epoch 19/30\n",
      "450/450 [==============================] - 1s 2ms/step - loss: 0.6171 - accuracy: 0.4299\n",
      "Epoch 20/30\n",
      "450/450 [==============================] - 1s 2ms/step - loss: 0.6175 - accuracy: 0.4161\n",
      "Epoch 21/30\n",
      "450/450 [==============================] - 1s 2ms/step - loss: 0.6157 - accuracy: 0.4323\n",
      "Epoch 22/30\n",
      "450/450 [==============================] - 1s 3ms/step - loss: 0.6181 - accuracy: 0.3916\n",
      "Epoch 23/30\n",
      "450/450 [==============================] - 1s 3ms/step - loss: 0.6157 - accuracy: 0.4153\n",
      "Epoch 24/30\n",
      "450/450 [==============================] - 1s 3ms/step - loss: 0.6145 - accuracy: 0.4315\n",
      "Epoch 25/30\n",
      "450/450 [==============================] - 1s 3ms/step - loss: 0.6119 - accuracy: 0.4496\n",
      "Epoch 26/30\n",
      "450/450 [==============================] - 1s 3ms/step - loss: 0.6112 - accuracy: 0.4487\n",
      "Epoch 27/30\n",
      "450/450 [==============================] - 1s 3ms/step - loss: 0.6117 - accuracy: 0.4404\n",
      "Epoch 28/30\n",
      "450/450 [==============================] - 1s 3ms/step - loss: 0.6105 - accuracy: 0.4477\n",
      "Epoch 29/30\n",
      "450/450 [==============================] - 1s 3ms/step - loss: 0.6097 - accuracy: 0.4494\n",
      "Epoch 30/30\n",
      "450/450 [==============================] - 1s 2ms/step - loss: 0.6128 - accuracy: 0.4167\n"
     ]
    },
    {
     "data": {
      "text/plain": [
       "<keras.callbacks.History at 0x18c6bdd52b0>"
      ]
     },
     "execution_count": 20,
     "metadata": {},
     "output_type": "execute_result"
    }
   ],
   "source": [
    "model = keras.Sequential()\n",
    "keras.layers.Layer()\n",
    "model.add(keras.layers.LSTM(20))\n",
    "model.add(keras.layers.Dense(10, activation='sigmoid'))\n",
    "model.add(keras.layers.Dense(3, activation='sigmoid'))\n",
    "\n",
    "from sklearn.model_selection import train_test_split\n",
    "X_train, X_test, y_train, y_test = train_test_split(vectors, letters, test_size=0.2, random_state=13)\n",
    "\n",
    "model.compile(loss='binary_crossentropy',\n",
    "              optimizer='adam',\n",
    "              metrics=['accuracy'])\n",
    "model.fit(X_train, y_train,\n",
    "          epochs=30,\n",
    "          verbose=1\n",
    "          )"
   ]
  },
  {
   "cell_type": "code",
   "execution_count": 27,
   "metadata": {},
   "outputs": [
    {
     "name": "stdout",
     "output_type": "stream",
     "text": [
      "113/113 [==============================] - 0s 1ms/step - loss: 0.4598 - accuracy: 0.6314\n"
     ]
    }
   ],
   "source": [
    "\n",
    "score, acc = model.evaluate(X_test, y_test)"
   ]
  },
  {
   "cell_type": "code",
   "execution_count": 22,
   "metadata": {},
   "outputs": [],
   "source": [
    "# model.save(r\"models/test\")\n",
    "model = keras.models.load_model(r\"models/test\")"
   ]
  },
  {
   "cell_type": "code",
   "execution_count": 8,
   "metadata": {},
   "outputs": [
    {
     "name": "stdout",
     "output_type": "stream",
     "text": [
      "Num GPUs Available:  0\n"
     ]
    }
   ],
   "source": [
    "import tensorflow as tf\n",
    "print(\"Num GPUs Available: \", len(tf.config.list_physical_devices('GPU')))"
   ]
  }
 ],
 "metadata": {
  "kernelspec": {
   "display_name": "NLP_paper",
   "language": "python",
   "name": "python3"
  },
  "language_info": {
   "codemirror_mode": {
    "name": "ipython",
    "version": 3
   },
   "file_extension": ".py",
   "mimetype": "text/x-python",
   "name": "python",
   "nbconvert_exporter": "python",
   "pygments_lexer": "ipython3",
   "version": "3.9.13"
  },
  "orig_nbformat": 4
 },
 "nbformat": 4,
 "nbformat_minor": 2
}
