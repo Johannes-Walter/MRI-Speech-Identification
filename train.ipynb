{
  "nbformat": 4,
  "nbformat_minor": 0,
  "metadata": {
    "colab": {
      "provenance": [],
      "collapsed_sections": [
        "23FvrnhOSyU6",
        "_L5lHXFNWeVi",
        "XGG16DNTW_LZ"
      ]
    },
    "kernelspec": {
      "name": "python3",
      "display_name": "Python 3"
    },
    "language_info": {
      "name": "python"
    }
  },
  "cells": [
    {
      "cell_type": "markdown",
      "source": [
        "# Imports"
      ],
      "metadata": {
        "id": "23FvrnhOSyU6"
      }
    },
    {
      "cell_type": "code",
      "source": [
        "#connect to gdrive\n",
        "from google.colab import drive\n",
        "drive.mount('/content/drive')"
      ],
      "metadata": {
        "colab": {
          "base_uri": "https://localhost:8080/"
        },
        "id": "2iz5VSDRINtU",
        "outputId": "aec6e905-43c0-4fb1-ce1a-55fe590d23e4"
      },
      "execution_count": 1,
      "outputs": [
        {
          "output_type": "stream",
          "name": "stdout",
          "text": [
            "Drive already mounted at /content/drive; to attempt to forcibly remount, call drive.mount(\"/content/drive\", force_remount=True).\n"
          ]
        }
      ]
    },
    {
      "cell_type": "code",
      "source": [
        "!ls \"/content/drive/My Drive/Colab Notebooks\""
      ],
      "metadata": {
        "colab": {
          "base_uri": "https://localhost:8080/"
        },
        "id": "j2G3TsA8JsSW",
        "outputId": "01cacdb6-86f9-49c8-bdb2-94149ac45898"
      },
      "execution_count": 2,
      "outputs": [
        {
          "output_type": "stream",
          "name": "stdout",
          "text": [
            " data\t\t    data_reader.py\t Demo.ipynb   __pycache__\n",
            " data_preparer.py   data_vectorizer.py\t'H&M.ipynb'   train.ipynb\n"
          ]
        }
      ]
    },
    {
      "cell_type": "code",
      "execution_count": 23,
      "metadata": {
        "id": "DEdkco1xIBTR"
      },
      "outputs": [],
      "source": [
        "#imports\n",
        "import pandas as pd\n",
        "import numpy as np\n",
        "from sklearn.model_selection import train_test_split\n",
        "from sklearn import datasets\n",
        "from sklearn import svm\n",
        "import sys\n",
        "sys.path.insert(0,\"/content/drive/My Drive/Colab Notebooks\")\n",
        "import data_preparer\n",
        "from pathlib import Path\n",
        "from keras.utils import to_categorical\n",
        "import torch\n",
        "import tensorflow as tf\n",
        "import keras\n",
        "from keras.models import Model\n",
        "from keras.models import Sequential\n",
        "from keras.layers import Input, Dense, TimeDistributed\n",
        "from keras.layers import LSTM, Bidirectional, Conv1D, concatenate, Permute, Dropout\n",
        "from keras.layers import Dense, Flatten, Conv3D, MaxPooling3D, Dropout, BatchNormalization\n",
        "from keras.callbacks import LearningRateScheduler"
      ]
    },
    {
      "cell_type": "markdown",
      "source": [
        "# Setup Training"
      ],
      "metadata": {
        "id": "_L5lHXFNWeVi"
      }
    },
    {
      "cell_type": "code",
      "source": [
        "# Setup traing data\n",
        "vectors, letters = data_preparer.get_randomized_vectors(100)\n",
        "length = data_preparer.get_max_frames()"
      ],
      "metadata": {
        "colab": {
          "base_uri": "https://localhost:8080/"
        },
        "id": "OJnlIUqPrNX9",
        "outputId": "87a56923-195a-43ff-a24b-ec30b1a36cc5"
      },
      "execution_count": 4,
      "outputs": [
        {
          "output_type": "stream",
          "name": "stdout",
          "text": [
            "/content/drive/My Drive/Colab Notebooks/data/sub001\n"
          ]
        }
      ]
    },
    {
      "cell_type": "code",
      "source": [
        "items = set(letters)\n",
        "\n",
        "items = {\n",
        "    item: idx\n",
        "    for idx, item in enumerate(items)\n",
        "}\n",
        "\n",
        "for idx, item in enumerate(letters):\n",
        "    letters[idx] = items[item]\n",
        "\n",
        "letters = np.array(letters)\n",
        "letters = keras.utils.to_categorical(letters)"
      ],
      "metadata": {
        "id": "GuM6HWR_rTn0"
      },
      "execution_count": 5,
      "outputs": []
    },
    {
      "cell_type": "code",
      "source": [
        "#vecotrs need to be setup differently because LSTM only taskes 3 dimesions ans cnn needs 4 dimensions\n",
        "# vectors = data_preparer.make_numpy(vectors, length) # for LSTM model\n",
        "vectors = data_preparer.make_numpy_cnn(vectors, length) #for CNN model"
      ],
      "metadata": {
        "id": "OKoAGna9WhpF"
      },
      "execution_count": 6,
      "outputs": []
    },
    {
      "cell_type": "code",
      "source": [
        "X_train, X_test, y_train, y_test = train_test_split(vectors, letters, test_size=0.2, random_state=13)"
      ],
      "metadata": {
        "id": "cHAegtPTWqQS"
      },
      "execution_count": 7,
      "outputs": []
    },
    {
      "cell_type": "markdown",
      "source": [
        "# Training"
      ],
      "metadata": {
        "id": "lmKgMfEbW8cn"
      }
    },
    {
      "cell_type": "markdown",
      "source": [
        "### **1. LSTM**"
      ],
      "metadata": {
        "id": "XGG16DNTW_LZ"
      }
    },
    {
      "cell_type": "code",
      "source": [
        "# # Mini Model\n",
        "# model = keras.Sequential()\n",
        "# model.add(keras.layers.LSTM(1))\n",
        "# model.add(keras.layers.Dense(3, activation='sigmoid'))"
      ],
      "metadata": {
        "id": "9S-Kib_jXGIs"
      },
      "execution_count": 8,
      "outputs": []
    },
    {
      "cell_type": "code",
      "source": [
        "# # Small Model\n",
        "# model = keras.Sequential()\n",
        "# model.add(keras.layers.LSTM(20))\n",
        "# model.add(keras.layers.Dense(10, activation='sigmoid'))\n",
        "# model.add(keras.layers.Dense(3, activation='sigmoid'))"
      ],
      "metadata": {
        "id": "LmBIZMAdXLHa"
      },
      "execution_count": 9,
      "outputs": []
    },
    {
      "cell_type": "code",
      "source": [
        "# # Big Model\n",
        "# model = keras.Sequential()\n",
        "# model.add(keras.layers.LSTM(1860))\n",
        "# model.add(keras.layers.Dense(100, activation='sigmoid'))\n",
        "# model.add(keras.layers.Dense(10, activation='sigmoid'))\n",
        "# model.add(keras.layers.Dense(3, activation='sigmoid'))"
      ],
      "metadata": {
        "id": "EnL1DztmXNjH"
      },
      "execution_count": 10,
      "outputs": []
    },
    {
      "cell_type": "code",
      "source": [
        "# model.compile(loss='mean_squared_error',\n",
        "#               optimizer='Adamax',\n",
        "#               metrics=['CategoricalAccuracy'])\n",
        "# model.fit(X_train, y_train,\n",
        "#           epochs=25,\n",
        "#           verbose=1\n",
        "#           )"
      ],
      "metadata": {
        "id": "xshm3c0PYNOU"
      },
      "execution_count": 11,
      "outputs": []
    },
    {
      "cell_type": "code",
      "source": [
        "# score, acc = model.evaluate(X_test, y_test)"
      ],
      "metadata": {
        "id": "f-KYNhnvYo19"
      },
      "execution_count": 12,
      "outputs": []
    },
    {
      "cell_type": "code",
      "source": [
        "#model = keras.models.load_model(r\"models/small\")"
      ],
      "metadata": {
        "id": "o1j9HebTX4FR"
      },
      "execution_count": 13,
      "outputs": []
    },
    {
      "cell_type": "markdown",
      "source": [
        "## **2. 3D-CNN**"
      ],
      "metadata": {
        "id": "nGyVomJiEqsr"
      }
    },
    {
      "cell_type": "code",
      "source": [
        "#3D CNN model\n",
        "model = Sequential()\n",
        "model.add(Conv3D(20, kernel_size=(3, 3, 3), activation='relu', input_shape=(7, 20, length, 1)))\n",
        "model.add(BatchNormalization())\n",
        "model.add(MaxPooling3D(pool_size=(2, 2, 2)))\n",
        "\n",
        "model.add(Conv3D(10, kernel_size=(3, 3, 3), padding='same',activation='relu'))\n",
        "model.add(BatchNormalization())\n",
        "model.add(MaxPooling3D(pool_size=(2, 2, 2)))\n",
        "\n",
        "model.add(Conv3D(10, kernel_size=(3, 3, 3), padding='same',activation='relu'))\n",
        "model.add(BatchNormalization())\n",
        "\n",
        "\n",
        "model.add(Flatten())\n",
        "model.add(Dense(3, activation='sigmoid'))\n",
        "# Compile the model\n",
        "model.compile(loss='mean_squared_error',\n",
        "              optimizer='Adamax',\n",
        "              metrics=['CategoricalAccuracy'])"
      ],
      "metadata": {
        "id": "WLkpn7yftZBW"
      },
      "execution_count": 17,
      "outputs": []
    },
    {
      "cell_type": "code",
      "source": [
        "# Train the model -> takes very long on google colab\n",
        "# Define the learning rate schedule function\n",
        "def lr_schedule(epoch):\n",
        "    lr = 0.001\n",
        "    if epoch > 5:\n",
        "        lr *= 0.1\n",
        "    elif epoch > 10:\n",
        "        lr *= 0.5\n",
        "    return lr\n",
        "\n",
        "# Create the learning rate scheduler callback\n",
        "lr_scheduler = LearningRateScheduler(lr_schedule)\n",
        "\n",
        "model.fit(X_train, y_train, epochs=10, verbose=1,batch_size=4, callbacks=[lr_scheduler])"
      ],
      "metadata": {
        "colab": {
          "base_uri": "https://localhost:8080/"
        },
        "id": "vFKjw5MXkHQ2",
        "outputId": "bfcf7983-09d1-4198-efaf-41668faea1fa"
      },
      "execution_count": 24,
      "outputs": [
        {
          "output_type": "stream",
          "name": "stdout",
          "text": [
            "Epoch 1/10\n",
            "3600/3600 [==============================] - 526s 146ms/step - loss: 0.0920 - categorical_accuracy: 0.8181 - lr: 0.0010\n",
            "Epoch 2/10\n",
            "3600/3600 [==============================] - 519s 144ms/step - loss: 0.0597 - categorical_accuracy: 0.8865 - lr: 0.0010\n",
            "Epoch 3/10\n",
            "3600/3600 [==============================] - 518s 144ms/step - loss: 0.0490 - categorical_accuracy: 0.9062 - lr: 0.0010\n",
            "Epoch 4/10\n",
            "3600/3600 [==============================] - 518s 144ms/step - loss: 0.0410 - categorical_accuracy: 0.9212 - lr: 0.0010\n",
            "Epoch 5/10\n",
            "3600/3600 [==============================] - 521s 145ms/step - loss: 0.0357 - categorical_accuracy: 0.9326 - lr: 0.0010\n",
            "Epoch 6/10\n",
            "3600/3600 [==============================] - 524s 146ms/step - loss: 0.0324 - categorical_accuracy: 0.9381 - lr: 0.0010\n",
            "Epoch 7/10\n",
            "3600/3600 [==============================] - 520s 145ms/step - loss: 0.0297 - categorical_accuracy: 0.9435 - lr: 0.0010\n",
            "Epoch 8/10\n",
            "3600/3600 [==============================] - 529s 147ms/step - loss: 0.0282 - categorical_accuracy: 0.9478 - lr: 0.0010\n",
            "Epoch 9/10\n",
            "3600/3600 [==============================] - 526s 146ms/step - loss: 0.0273 - categorical_accuracy: 0.9490 - lr: 0.0010\n",
            "Epoch 10/10\n",
            "3600/3600 [==============================] - 519s 144ms/step - loss: 0.0250 - categorical_accuracy: 0.9544 - lr: 0.0010\n"
          ]
        },
        {
          "output_type": "execute_result",
          "data": {
            "text/plain": [
              "<keras.callbacks.History at 0x7fde70264e20>"
            ]
          },
          "metadata": {},
          "execution_count": 24
        }
      ]
    },
    {
      "cell_type": "code",
      "source": [
        "# Evaluate the model on the test set\n",
        "score = model.evaluate(X_test, y_test, verbose=1)\n",
        "print(\"Test loss:\", score[0])\n",
        "print(\"Test accuracy:\", score[1])"
      ],
      "metadata": {
        "colab": {
          "base_uri": "https://localhost:8080/"
        },
        "id": "CaMHZuoIkPkY",
        "outputId": "a07407f2-c325-46c8-c3dd-0fd8ee56b8be"
      },
      "execution_count": 25,
      "outputs": [
        {
          "output_type": "stream",
          "name": "stdout",
          "text": [
            "113/113 [==============================] - 29s 257ms/step - loss: 0.0327 - categorical_accuracy: 0.9344\n",
            "Test loss: 0.03266969323158264\n",
            "Test accuracy: 0.9344444274902344\n"
          ]
        }
      ]
    },
    {
      "cell_type": "code",
      "source": [
        "model.save('/content/drive/My Drive/Colab Notebooks/cnn/')"
      ],
      "metadata": {
        "colab": {
          "base_uri": "https://localhost:8080/"
        },
        "id": "VxalDmeptXAq",
        "outputId": "87c15830-00e4-403c-a3da-5774beb202b8"
      },
      "execution_count": 29,
      "outputs": [
        {
          "output_type": "stream",
          "name": "stderr",
          "text": [
            "WARNING:absl:Found untraced functions such as _jit_compiled_convolution_op, _jit_compiled_convolution_op, _jit_compiled_convolution_op, _update_step_xla while saving (showing 4 of 4). These functions will not be directly callable after loading.\n"
          ]
        }
      ]
    }
  ]
}