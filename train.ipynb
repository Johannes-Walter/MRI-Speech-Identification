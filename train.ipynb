{
  "cells": [
    {
      "attachments": {},
      "cell_type": "markdown",
      "metadata": {
        "id": "23FvrnhOSyU6"
      },
      "source": [
        "Preprocessing\n",
        "-> open this notebook in google colab"
      ]
    },
    {
      "cell_type": "code",
      "execution_count": 1,
      "metadata": {
        "colab": {
          "base_uri": "https://localhost:8080/"
        },
        "id": "2iz5VSDRINtU",
        "outputId": "eadb90d0-e42e-4b45-ccd9-5a64089da24d"
      },
      "outputs": [
        {
          "name": "stdout",
          "output_type": "stream",
          "text": [
            "Mounted at /content/drive\n"
          ]
        }
      ],
      "source": [
        "#connect to gdrive\n",
        "from google.colab import drive\n",
        "drive.mount('/content/drive')"
      ]
    },
    {
      "cell_type": "code",
      "execution_count": 2,
      "metadata": {
        "colab": {
          "base_uri": "https://localhost:8080/"
        },
        "id": "j2G3TsA8JsSW",
        "outputId": "0275d09c-7004-4855-a27f-81b09f5d7da8"
      },
      "outputs": [
        {
          "name": "stdout",
          "output_type": "stream",
          "text": [
            " data   data_preparer.py  'H&M.ipynb'   __pycache__   train.ipynb\n"
          ]
        }
      ],
      "source": [
        "!ls \"/content/drive/My Drive/Colab Notebooks\""
      ]
    },
    {
      "cell_type": "code",
      "execution_count": 3,
      "metadata": {
        "id": "DEdkco1xIBTR"
      },
      "outputs": [],
      "source": [
        "#imports\n",
        "import numpy as np\n",
        "from sklearn.model_selection import train_test_split\n",
        "from sklearn import datasets\n",
        "from sklearn import svm\n",
        "import sys\n",
        "sys.path.insert(0,\"/content/drive/My Drive/Colab Notebooks/\")\n",
        "import data_preparer\n",
        "from pathlib import Path\n",
        "from keras.utils import to_categorical"
      ]
    },
    {
      "cell_type": "code",
      "execution_count": 4,
      "metadata": {
        "colab": {
          "base_uri": "https://localhost:8080/"
        },
        "id": "hmFUWY3OKYGR",
        "outputId": "acbc58fa-8a7d-4250-c58b-a9a53a106b18"
      },
      "outputs": [
        {
          "name": "stdout",
          "output_type": "stream",
          "text": [
            "Spacing: 30.0 degrees\n"
          ]
        }
      ],
      "source": [
        "#prepare mask for vectors\n",
        "rel = data_preparer.get_vectors_relative_position(7, 180, 20)\n",
        "abss = data_preparer.get_vectors_absolute_position(rel)\n",
        "mask = data_preparer.get_mask(abss)"
      ]
    },
    {
      "cell_type": "code",
      "execution_count": 5,
      "metadata": {
        "id": "26YYbrAsKbMO"
      },
      "outputs": [],
      "source": [
        "#read recon file\n",
        "file = \"sub001_2drt_07_grandfather1_r1_recon.h5\"\n",
        "filepath = f\"/content/drive/My Drive/Colab Notebooks/data/sub001/2drt/recon/{file}\"\n",
        "recon = data_preparer.get_recon(filepath)"
      ]
    },
    {
      "cell_type": "code",
      "execution_count": 6,
      "metadata": {
        "id": "7QrhXdCSKwb5"
      },
      "outputs": [],
      "source": [
        "#read timestamps file\n",
        "filepath = \"/content/drive/My Drive/Colab Notebooks/data/sub001/timestamps/sub001_2drt_01_vcv1_r1_recon.csv\"\n",
        "timestamps = data_preparer.read_timestamps(filepath)"
      ]
    },
    {
      "cell_type": "code",
      "execution_count": 7,
      "metadata": {
        "id": "ugRwlIeUKzD8"
      },
      "outputs": [],
      "source": [
        "#get vectors of the first row of timestamps\n",
        "vectors = data_preparer.get_pixel_data(recon, abss, timestamps.iloc[0])"
      ]
    },
    {
      "cell_type": "code",
      "execution_count": 16,
      "metadata": {
        "colab": {
          "base_uri": "https://localhost:8080/"
        },
        "id": "edSDGyoEPZ08",
        "outputId": "047b16f9-87d7-456b-e6b9-85d281bb9b5f"
      },
      "outputs": [
        {
          "data": {
            "text/plain": [
              "(7, 20, 52)"
            ]
          },
          "execution_count": 16,
          "metadata": {},
          "output_type": "execute_result"
        }
      ],
      "source": [
        "all_vectors = np.empty(shape=(7,20,52))\n",
        "all_vectors.shape"
      ]
    },
    {
      "cell_type": "code",
      "execution_count": 22,
      "metadata": {
        "colab": {
          "base_uri": "https://localhost:8080/",
          "height": 235
        },
        "id": "gOhlQTsFK1Ya",
        "outputId": "60fdd32d-4ab3-4840-a358-c6bc7c3e5f54"
      },
      "outputs": [
        {
          "name": "stdout",
          "output_type": "stream",
          "text": [
            "0 (7, 20, 52)\n",
            "1 (7, 20, 40)\n"
          ]
        },
        {
          "ename": "ValueError",
          "evalue": "ignored",
          "output_type": "error",
          "traceback": [
            "\u001b[0;31m---------------------------------------------------------------------------\u001b[0m",
            "\u001b[0;31mValueError\u001b[0m                                Traceback (most recent call last)",
            "\u001b[0;32m<ipython-input-22-249eafd64ae2>\u001b[0m in \u001b[0;36m<module>\u001b[0;34m\u001b[0m\n\u001b[1;32m      5\u001b[0m     \u001b[0mvectors\u001b[0m \u001b[0;34m=\u001b[0m \u001b[0mdata_preparer\u001b[0m\u001b[0;34m.\u001b[0m\u001b[0mget_pixel_data\u001b[0m\u001b[0;34m(\u001b[0m\u001b[0mrecon\u001b[0m\u001b[0;34m,\u001b[0m \u001b[0mabss\u001b[0m\u001b[0;34m,\u001b[0m \u001b[0mtimestamps\u001b[0m\u001b[0;34m.\u001b[0m\u001b[0miloc\u001b[0m\u001b[0;34m[\u001b[0m\u001b[0mi\u001b[0m\u001b[0;34m]\u001b[0m\u001b[0;34m)\u001b[0m\u001b[0;34m\u001b[0m\u001b[0;34m\u001b[0m\u001b[0m\n\u001b[1;32m      6\u001b[0m     \u001b[0mprint\u001b[0m\u001b[0;34m(\u001b[0m\u001b[0mi\u001b[0m\u001b[0;34m,\u001b[0m \u001b[0mvectors\u001b[0m\u001b[0;34m.\u001b[0m\u001b[0mshape\u001b[0m\u001b[0;34m)\u001b[0m\u001b[0;34m\u001b[0m\u001b[0;34m\u001b[0m\u001b[0m\n\u001b[0;32m----> 7\u001b[0;31m     \u001b[0mall_vectors\u001b[0m\u001b[0;34m[\u001b[0m\u001b[0mi\u001b[0m\u001b[0;34m]\u001b[0m \u001b[0;34m=\u001b[0m \u001b[0mvectors\u001b[0m\u001b[0;34m\u001b[0m\u001b[0;34m\u001b[0m\u001b[0m\n\u001b[0m",
            "\u001b[0;31mValueError\u001b[0m: could not broadcast input array from shape (7,20,40) into shape (7,20,52)"
          ]
        }
      ],
      "source": [
        "#TO DO\n",
        "#now we need to get all vectors for every row of timestamps - but pixel data is different size...\n",
        "all_vectors = np.zeros(shape=(36,7,20,52)) # we need 36 arrays with 7 vectors of pixel data\n",
        "for i in range(len(timestamps)):\n",
        "    vectors = data_preparer.get_pixel_data(recon, abss, timestamps.iloc[i])\n",
        "    print(i, vectors.shape)\n",
        "    all_vectors[i] = vectors\n"
      ]
    },
    {
      "cell_type": "code",
      "execution_count": 22,
      "metadata": {
        "id": "e38HGi3xK4A9"
      },
      "outputs": [],
      "source": [
        "#and the label/letter of the vectors\n",
        "timestamps['Buchstabe'] = timestamps['Buchstabe'].astype('category') #convert to catergory type\n",
        "timestamps['letter_cat'] = timestamps[\"Buchstabe\"].cat.codes # get new col with numeric category"
      ]
    },
    {
      "cell_type": "code",
      "execution_count": null,
      "metadata": {
        "id": "_0P6YktHOkff"
      },
      "outputs": [],
      "source": [
        "X = all_vectors#vectors\n",
        "y = timestamps['letter_cat']#letter\n",
        "\n",
        "X_train, X_test, y_train, y_test = train_test_split(X, y, test_size=0.2, random_state=13)"
      ]
    },
    {
      "cell_type": "markdown",
      "metadata": {
        "id": "J1sAaZoIYYn0"
      },
      "source": [
        "Start the training..."
      ]
    },
    {
      "cell_type": "markdown",
      "metadata": {
        "id": "Hhk7T02DVO0a"
      },
      "source": [
        "Used: https://medium.com/@dclengacher/keras-lstm-recurrent-neural-networks-c1f5febde03d & https://shap.readthedocs.io/en/latest/example_notebooks/text_examples/sentiment_analysis/Keras%20LSTM%20for%20IMDB%20Sentiment%20Classification.html"
      ]
    },
    {
      "cell_type": "code",
      "execution_count": 25,
      "metadata": {
        "id": "nnF6kjSuU2e-"
      },
      "outputs": [],
      "source": [
        "from keras.models import Model\n",
        "from keras.layers import Input, Dense, TimeDistributed\n",
        "from keras.layers import LSTM, Bidirectional, Conv1D, concatenate, Permute, Dropout"
      ]
    },
    {
      "cell_type": "code",
      "execution_count": null,
      "metadata": {
        "id": "gfoh7psRU5Pp"
      },
      "outputs": [],
      "source": [
        "#set up the model\n",
        "model = Sequential()\n",
        "model.add(LSTM(8,input_shape=(5,1),return_sequences=False))\n",
        "model.add(Dense(1, activation='sigmoid'))\n",
        "model.compile(loss='binary_crossentropy',\n",
        "              optimizer='adam',\n",
        "              metrics=['accuracy'])\n",
        "model.fit(x_train, y_train,\n",
        "          batch_size=batch_size,\n",
        "          epochs=15,\n",
        "          validation_data=(x_test, y_test))\n",
        "score, acc = model.evaluate(x_test, y_test,\n",
        "                            batch_size=batch_size)"
      ]
    }
  ],
  "metadata": {
    "colab": {
      "provenance": []
    },
    "kernelspec": {
      "display_name": "Python 3",
      "name": "python3"
    },
    "language_info": {
      "name": "python",
      "version": "3.11.1"
    }
  },
  "nbformat": 4,
  "nbformat_minor": 0
}
