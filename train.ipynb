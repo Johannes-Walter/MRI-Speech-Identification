{
  "cells": [
    {
      "cell_type": "markdown",
      "metadata": {
        "id": "23FvrnhOSyU6"
      },
      "source": [
        "Preprocessing"
      ]
    },
    {
      "cell_type": "code",
      "execution_count": 1,
      "metadata": {
        "colab": {
          "base_uri": "https://localhost:8080/"
        },
        "id": "2iz5VSDRINtU",
        "outputId": "4305829e-7ed2-4e9e-f56b-84222710c16c"
      },
      "outputs": [
        {
          "name": "stdout",
          "output_type": "stream",
          "text": [
            "Mounted at /content/drive\n"
          ]
        }
      ],
      "source": [
        "#connect to gdrive\n",
        "from google.colab import drive\n",
        "drive.mount('/content/drive')"
      ]
    },
    {
      "cell_type": "code",
      "execution_count": 2,
      "metadata": {
        "colab": {
          "base_uri": "https://localhost:8080/"
        },
        "id": "j2G3TsA8JsSW",
        "outputId": "40055472-20c7-43e4-e8f2-ef87e5664e33"
      },
      "outputs": [
        {
          "name": "stdout",
          "output_type": "stream",
          "text": [
            " data   data_preparer.py  'H&M.ipynb'   __pycache__   train.ipynb\n"
          ]
        }
      ],
      "source": [
        "!ls \"/content/drive/My Drive/Colab Notebooks\""
      ]
    },
    {
      "cell_type": "code",
      "execution_count": 3,
      "metadata": {
        "id": "DEdkco1xIBTR"
      },
      "outputs": [],
      "source": [
        "#imports\n",
        "import numpy as np\n",
        "from sklearn.model_selection import train_test_split\n",
        "from sklearn import datasets\n",
        "from sklearn import svm\n",
        "import sys\n",
        "sys.path.insert(0,\"/content/drive/My Drive/Colab Notebooks\")\n",
        "import data_preparer\n",
        "from pathlib import Path\n",
        "from keras.utils import to_categorical\n",
        "import torch\n",
        "import tensorflow as tf"
      ]
    },
    {
      "cell_type": "code",
      "execution_count": 4,
      "metadata": {
        "colab": {
          "base_uri": "https://localhost:8080/"
        },
        "id": "hmFUWY3OKYGR",
        "outputId": "eeb040ac-9430-45a1-c3af-0c558bb720dc"
      },
      "outputs": [
        {
          "name": "stdout",
          "output_type": "stream",
          "text": [
            "Spacing: 30.0 degrees\n"
          ]
        }
      ],
      "source": [
        "#prepare mask for vectors\n",
        "rel = data_preparer.get_vectors_relative_position(7, 180, 20)\n",
        "abss = data_preparer.get_vectors_absolute_position(rel)\n",
        "mask = data_preparer.get_mask(abss)"
      ]
    },
    {
      "cell_type": "code",
      "execution_count": 5,
      "metadata": {
        "id": "26YYbrAsKbMO"
      },
      "outputs": [],
      "source": [
        "#read recon file\n",
        "file = \"sub001_2drt_07_grandfather1_r1_recon.h5\"\n",
        "filepath = f\"/content/drive/My Drive/Colab Notebooks/data/sub001/2drt/recon/{file}\"\n",
        "recon = data_preparer.get_recon(filepath)"
      ]
    },
    {
      "cell_type": "code",
      "execution_count": 6,
      "metadata": {
        "id": "7QrhXdCSKwb5"
      },
      "outputs": [],
      "source": [
        "#read timestamps file\n",
        "filepath = \"/content/drive/My Drive/Colab Notebooks/data/sub001/timestamps/sub001_2drt_01_vcv1_r1_recon.csv\"\n",
        "timestamps = data_preparer.read_timestamps(filepath)"
      ]
    },
    {
      "cell_type": "code",
      "execution_count": 7,
      "metadata": {
        "id": "ugRwlIeUKzD8"
      },
      "outputs": [],
      "source": [
        "#get vectors of the first row of timestamps\n",
        "vectors = data_preparer.get_pixel_data(recon, abss, timestamps.iloc[0])"
      ]
    },
    {
      "cell_type": "code",
      "execution_count": 26,
      "metadata": {
        "id": "Meid7Gv0Eb_1"
      },
      "outputs": [],
      "source": [
        "vector1 = data_preparer.get_pixel_data(recon, abss, timestamps.iloc[0])\n",
        "vector2 = data_preparer.get_pixel_data(recon, abss, timestamps.iloc[1])\n"
      ]
    },
    {
      "cell_type": "code",
      "execution_count": 27,
      "metadata": {
        "colab": {
          "base_uri": "https://localhost:8080/"
        },
        "id": "RyxWO4S961xH",
        "outputId": "0571aafc-cf52-487b-e791-49c11bf7f589"
      },
      "outputs": [
        {
          "data": {
            "text/plain": [
              "(7, 20, 52)"
            ]
          },
          "execution_count": 27,
          "metadata": {},
          "output_type": "execute_result"
        }
      ],
      "source": [
        "vector1.shape"
      ]
    },
    {
      "cell_type": "code",
      "execution_count": 8,
      "metadata": {
        "id": "eJG1jCbugDZW"
      },
      "outputs": [],
      "source": [
        "timestamps['total frames'] = timestamps['last_frame'] - timestamps['first_frame'] #create new col to get the higehst number of frames"
      ]
    },
    {
      "cell_type": "code",
      "execution_count": null,
      "metadata": {
        "colab": {
          "base_uri": "https://localhost:8080/"
        },
        "id": "szlEz1avhBfN",
        "outputId": "6284fcca-d3bb-409f-c84f-ba8e729e7974"
      },
      "outputs": [
        {
          "data": {
            "text/plain": [
              "80"
            ]
          },
          "execution_count": 25,
          "metadata": {},
          "output_type": "execute_result"
        }
      ],
      "source": [
        "highest_framenr = round(timestamps['total frames'].max())\n",
        "highest_framenr"
      ]
    },
    {
      "cell_type": "code",
      "execution_count": null,
      "metadata": {
        "id": "kUFrxAPSLhj2"
      },
      "outputs": [],
      "source": [
        "#convert np array to tensors from pytroch\n",
        "tensor1 = torch.from_numpy(vector1.copy())\n",
        "tensor2 = torch.from_numpy(vector2.copy())"
      ]
    },
    {
      "cell_type": "code",
      "execution_count": null,
      "metadata": {
        "id": "p4lrG2DsIZpR"
      },
      "outputs": [],
      "source": [
        "# expand tensor2 along the third dimension to match the size of tensor1\n",
        "tensor2 = torch.cat((tensor2, torch.zeros(7, 20, 12)), dim=2)\n",
        "# stack the tensors along a new first dimension\n",
        "stacked_tensor = torch.stack([tensor1, tensor2], dim=0)"
      ]
    },
    {
      "cell_type": "code",
      "execution_count": null,
      "metadata": {
        "colab": {
          "base_uri": "https://localhost:8080/"
        },
        "id": "kFI1NYkqO-ER",
        "outputId": "5caa1a33-120e-4934-80cf-547eace0c1ca"
      },
      "outputs": [
        {
          "data": {
            "text/plain": [
              "torch.Size([2, 7, 20, 52])"
            ]
          },
          "execution_count": 51,
          "metadata": {},
          "output_type": "execute_result"
        }
      ],
      "source": [
        "stacked_tensor.shape"
      ]
    },
    {
      "cell_type": "code",
      "execution_count": null,
      "metadata": {
        "colab": {
          "base_uri": "https://localhost:8080/"
        },
        "id": "opJn-ggXiOlH",
        "outputId": "23ae6589-4f95-4c7c-ff5d-22d39d6d6bce"
      },
      "outputs": [
        {
          "data": {
            "text/plain": [
              "28"
            ]
          },
          "execution_count": 32,
          "metadata": {},
          "output_type": "execute_result"
        }
      ],
      "source": [
        "highest_framenr - round(timestamps.iloc[0]['total frames'])"
      ]
    },
    {
      "cell_type": "code",
      "execution_count": 9,
      "metadata": {
        "id": "cN1g5sNWPmVs"
      },
      "outputs": [],
      "source": [
        "#TO DO: need to stack all arrays from timestamps together\n",
        "#therfore torch.cat needs to be applied to all arrays that are not the largest size in dimension 2\n",
        "#so we first need to find out how long the dimension 2 can be at max\n",
        "#and then apply torch.cat((smallervector, torch.zeros(7,20,numbertomxlen)), dim=2)\n",
        "#after that all tensors can be stacked\n",
        "highest_framenr = round(timestamps['total frames'].max())\n",
        "tensor_list = []\n",
        "for i in range(len(timestamps)):\n",
        "  vectors = data_preparer.get_pixel_data(recon, abss, timestamps.iloc[i])\n",
        "  tensor = torch.from_numpy(vectors.copy())\n",
        "  if round(timestamps.iloc[i]['total frames']) != highest_framenr:\n",
        "    delta_frames = highest_framenr - round(timestamps.iloc[i]['total frames'])\n",
        "    tensor = torch.cat((tensor, torch.zeros(7, 20, delta_frames)), dim=2)\n",
        "  tensor_list.append(tensor)\n",
        "final_tensor = torch.stack(tensor_list, dim=0)"
      ]
    },
    {
      "cell_type": "code",
      "execution_count": 10,
      "metadata": {
        "colab": {
          "base_uri": "https://localhost:8080/"
        },
        "id": "koUwbSDakcI1",
        "outputId": "a03670c3-b8b1-483a-cf5f-07c38be94f83"
      },
      "outputs": [
        {
          "data": {
            "text/plain": [
              "torch.Size([36, 7, 20, 80])"
            ]
          },
          "execution_count": 10,
          "metadata": {},
          "output_type": "execute_result"
        }
      ],
      "source": [
        "final_tensor.shape"
      ]
    },
    {
      "cell_type": "code",
      "execution_count": 11,
      "metadata": {
        "id": "A0gxrFWYmKGC"
      },
      "outputs": [],
      "source": [
        "#convert it back to numpy and then to tensorflow to use it for training\n",
        "np_tensor = final_tensor.numpy()\n",
        "tf_tensor = tf.convert_to_tensor(np_tensor)"
      ]
    },
    {
      "cell_type": "code",
      "execution_count": 12,
      "metadata": {
        "id": "e38HGi3xK4A9"
      },
      "outputs": [],
      "source": [
        "#and the label/letter of the vectors\n",
        "timestamps['Buchstabe'] = timestamps['Buchstabe'].astype('category') #convert to catergory type\n",
        "timestamps['letter_cat'] = timestamps[\"Buchstabe\"].cat.codes # get new col with numeric category"
      ]
    },
    {
      "cell_type": "code",
      "execution_count": 18,
      "metadata": {
        "id": "_0P6YktHOkff"
      },
      "outputs": [],
      "source": [
        "X = np_tensor.reshape((36, 7, -1))\n",
        "#X = np_tensor#vectors\n",
        "y = timestamps['letter_cat']#letter\n",
        "\n",
        "X_train, X_test, y_train, y_test = train_test_split(X, y, test_size=0.2, random_state=13)"
      ]
    },
    {
      "cell_type": "code",
      "execution_count": 20,
      "metadata": {
        "colab": {
          "base_uri": "https://localhost:8080/"
        },
        "id": "HGvazg4_454L",
        "outputId": "cc256e4f-425e-49e3-df37-630b996d0b2d"
      },
      "outputs": [
        {
          "data": {
            "text/plain": [
              "(36, 7, 1600)"
            ]
          },
          "execution_count": 20,
          "metadata": {},
          "output_type": "execute_result"
        }
      ],
      "source": [
        "X.shape"
      ]
    },
    {
      "cell_type": "markdown",
      "metadata": {
        "id": "J1sAaZoIYYn0"
      },
      "source": [
        "Start the training..."
      ]
    },
    {
      "cell_type": "markdown",
      "metadata": {
        "id": "Hhk7T02DVO0a"
      },
      "source": [
        "Used: https://medium.com/@dclengacher/keras-lstm-recurrent-neural-networks-c1f5febde03d & https://shap.readthedocs.io/en/latest/example_notebooks/text_examples/sentiment_analysis/Keras%20LSTM%20for%20IMDB%20Sentiment%20Classification.html"
      ]
    },
    {
      "cell_type": "code",
      "execution_count": 14,
      "metadata": {
        "id": "nnF6kjSuU2e-"
      },
      "outputs": [],
      "source": [
        "from keras.models import Model\n",
        "from keras.models import Sequential\n",
        "from keras.layers import Input, Dense, TimeDistributed\n",
        "from keras.layers import LSTM, Bidirectional, Conv1D, concatenate, Permute, Dropout"
      ]
    },
    {
      "cell_type": "code",
      "execution_count": 34,
      "metadata": {
        "colab": {
          "base_uri": "https://localhost:8080/"
        },
        "id": "gfoh7psRU5Pp",
        "outputId": "50a30776-580b-40e8-cda6-5ce9ad555585"
      },
      "outputs": [
        {
          "name": "stdout",
          "output_type": "stream",
          "text": [
            "Epoch 1/50\n",
            "1/1 [==============================] - 4s 4s/step - loss: 0.4992 - accuracy: 0.3571 - val_loss: 0.4801 - val_accuracy: 0.3750\n",
            "Epoch 2/50\n",
            "1/1 [==============================] - 0s 64ms/step - loss: 0.4662 - accuracy: 0.3214 - val_loss: 0.4181 - val_accuracy: 0.3750\n",
            "Epoch 3/50\n",
            "1/1 [==============================] - 0s 58ms/step - loss: 0.3569 - accuracy: 0.3214 - val_loss: 0.4432 - val_accuracy: 0.3750\n",
            "Epoch 4/50\n",
            "1/1 [==============================] - 0s 57ms/step - loss: 0.3652 - accuracy: 0.3214 - val_loss: 0.4069 - val_accuracy: 0.3750\n",
            "Epoch 5/50\n",
            "1/1 [==============================] - 0s 46ms/step - loss: 0.2723 - accuracy: 0.3214 - val_loss: 0.4240 - val_accuracy: 0.3750\n",
            "Epoch 6/50\n",
            "1/1 [==============================] - 0s 56ms/step - loss: 0.2446 - accuracy: 0.3214 - val_loss: 0.4973 - val_accuracy: 0.3750\n",
            "Epoch 7/50\n",
            "1/1 [==============================] - 0s 57ms/step - loss: 0.2769 - accuracy: 0.3214 - val_loss: 0.5947 - val_accuracy: 0.3750\n",
            "Epoch 8/50\n",
            "1/1 [==============================] - 0s 50ms/step - loss: 0.2395 - accuracy: 0.3571 - val_loss: 0.4747 - val_accuracy: 0.3750\n",
            "Epoch 9/50\n",
            "1/1 [==============================] - 0s 74ms/step - loss: 0.3062 - accuracy: 0.3571 - val_loss: 0.3971 - val_accuracy: 0.3750\n",
            "Epoch 10/50\n",
            "1/1 [==============================] - 0s 49ms/step - loss: 0.2937 - accuracy: 0.3571 - val_loss: 0.4001 - val_accuracy: 0.3750\n",
            "Epoch 11/50\n",
            "1/1 [==============================] - 0s 56ms/step - loss: 0.2482 - accuracy: 0.3571 - val_loss: 0.4332 - val_accuracy: 0.3750\n",
            "Epoch 12/50\n",
            "1/1 [==============================] - 0s 50ms/step - loss: 0.2744 - accuracy: 0.3571 - val_loss: 0.4272 - val_accuracy: 0.3750\n",
            "Epoch 13/50\n",
            "1/1 [==============================] - 0s 82ms/step - loss: 0.2325 - accuracy: 0.3571 - val_loss: 0.4145 - val_accuracy: 0.3750\n",
            "Epoch 14/50\n",
            "1/1 [==============================] - 0s 67ms/step - loss: 0.1685 - accuracy: 0.3571 - val_loss: 0.3090 - val_accuracy: 0.3750\n",
            "Epoch 15/50\n",
            "1/1 [==============================] - 0s 68ms/step - loss: 0.1759 - accuracy: 0.3214 - val_loss: 0.2925 - val_accuracy: 0.3750\n",
            "Epoch 16/50\n",
            "1/1 [==============================] - 0s 67ms/step - loss: 0.1661 - accuracy: 0.3214 - val_loss: 0.3130 - val_accuracy: 0.3750\n",
            "Epoch 17/50\n",
            "1/1 [==============================] - 0s 58ms/step - loss: 0.1586 - accuracy: 0.3214 - val_loss: 0.3378 - val_accuracy: 0.3750\n",
            "Epoch 18/50\n",
            "1/1 [==============================] - 0s 80ms/step - loss: 0.1578 - accuracy: 0.3214 - val_loss: 0.3440 - val_accuracy: 0.3750\n",
            "Epoch 19/50\n",
            "1/1 [==============================] - 0s 60ms/step - loss: 0.1616 - accuracy: 0.3214 - val_loss: 0.3421 - val_accuracy: 0.3750\n",
            "Epoch 20/50\n",
            "1/1 [==============================] - 0s 75ms/step - loss: 0.1955 - accuracy: 0.3214 - val_loss: 0.3395 - val_accuracy: 0.3750\n",
            "Epoch 21/50\n",
            "1/1 [==============================] - 0s 70ms/step - loss: 0.1999 - accuracy: 0.3214 - val_loss: 0.3361 - val_accuracy: 0.3750\n",
            "Epoch 22/50\n",
            "1/1 [==============================] - 0s 57ms/step - loss: 0.1937 - accuracy: 0.3214 - val_loss: 0.3327 - val_accuracy: 0.3750\n",
            "Epoch 23/50\n",
            "1/1 [==============================] - 0s 76ms/step - loss: 0.1751 - accuracy: 0.3214 - val_loss: 0.3276 - val_accuracy: 0.3750\n",
            "Epoch 24/50\n",
            "1/1 [==============================] - 0s 76ms/step - loss: 0.1730 - accuracy: 0.3214 - val_loss: 0.3186 - val_accuracy: 0.3750\n",
            "Epoch 25/50\n",
            "1/1 [==============================] - 0s 58ms/step - loss: 0.1970 - accuracy: 0.3571 - val_loss: 0.3316 - val_accuracy: 0.2500\n",
            "Epoch 26/50\n",
            "1/1 [==============================] - 0s 65ms/step - loss: 0.1984 - accuracy: 0.3214 - val_loss: 0.2433 - val_accuracy: 0.2500\n",
            "Epoch 27/50\n",
            "1/1 [==============================] - 0s 77ms/step - loss: 0.2452 - accuracy: 0.3929 - val_loss: 0.2210 - val_accuracy: 0.2500\n",
            "Epoch 28/50\n",
            "1/1 [==============================] - 0s 62ms/step - loss: 0.1718 - accuracy: 0.3929 - val_loss: 0.2095 - val_accuracy: 0.2500\n",
            "Epoch 29/50\n",
            "1/1 [==============================] - 0s 66ms/step - loss: 0.1260 - accuracy: 0.3929 - val_loss: 0.1945 - val_accuracy: 0.2500\n",
            "Epoch 30/50\n",
            "1/1 [==============================] - 0s 78ms/step - loss: 0.1239 - accuracy: 0.3929 - val_loss: 0.2115 - val_accuracy: 0.2500\n",
            "Epoch 31/50\n",
            "1/1 [==============================] - 0s 77ms/step - loss: 0.0924 - accuracy: 0.3929 - val_loss: 0.2100 - val_accuracy: 0.2500\n",
            "Epoch 32/50\n",
            "1/1 [==============================] - 0s 77ms/step - loss: 0.1085 - accuracy: 0.3929 - val_loss: 0.2573 - val_accuracy: 0.2500\n",
            "Epoch 33/50\n",
            "1/1 [==============================] - 0s 64ms/step - loss: 0.0980 - accuracy: 0.3929 - val_loss: 0.2085 - val_accuracy: 0.2500\n",
            "Epoch 34/50\n",
            "1/1 [==============================] - 0s 65ms/step - loss: 0.0935 - accuracy: 0.3929 - val_loss: 0.1681 - val_accuracy: 0.2500\n",
            "Epoch 35/50\n",
            "1/1 [==============================] - 0s 86ms/step - loss: 0.0091 - accuracy: 0.3929 - val_loss: 0.0951 - val_accuracy: 0.3750\n",
            "Epoch 36/50\n",
            "1/1 [==============================] - 0s 66ms/step - loss: -0.0073 - accuracy: 0.3929 - val_loss: 0.1028 - val_accuracy: 0.3750\n",
            "Epoch 37/50\n",
            "1/1 [==============================] - 0s 59ms/step - loss: -0.0297 - accuracy: 0.3929 - val_loss: 0.1097 - val_accuracy: 0.3750\n",
            "Epoch 38/50\n",
            "1/1 [==============================] - 0s 68ms/step - loss: -0.0338 - accuracy: 0.3571 - val_loss: 0.1914 - val_accuracy: 0.3750\n",
            "Epoch 39/50\n",
            "1/1 [==============================] - 0s 61ms/step - loss: -0.0091 - accuracy: 0.3571 - val_loss: 0.1962 - val_accuracy: 0.3750\n",
            "Epoch 40/50\n",
            "1/1 [==============================] - 0s 57ms/step - loss: -0.0564 - accuracy: 0.3571 - val_loss: 0.1997 - val_accuracy: 0.3750\n",
            "Epoch 41/50\n",
            "1/1 [==============================] - 0s 52ms/step - loss: -0.0643 - accuracy: 0.3571 - val_loss: 0.2370 - val_accuracy: 0.2500\n",
            "Epoch 42/50\n",
            "1/1 [==============================] - 0s 71ms/step - loss: -0.0657 - accuracy: 0.3571 - val_loss: 0.3402 - val_accuracy: 0.2500\n",
            "Epoch 43/50\n",
            "1/1 [==============================] - 0s 50ms/step - loss: -0.0971 - accuracy: 0.3571 - val_loss: 0.3831 - val_accuracy: 0.2500\n",
            "Epoch 44/50\n",
            "1/1 [==============================] - 0s 58ms/step - loss: -0.0906 - accuracy: 0.3571 - val_loss: 0.3181 - val_accuracy: 0.2500\n",
            "Epoch 45/50\n",
            "1/1 [==============================] - 0s 56ms/step - loss: -0.0823 - accuracy: 0.3571 - val_loss: 0.2914 - val_accuracy: 0.3750\n",
            "Epoch 46/50\n",
            "1/1 [==============================] - 0s 50ms/step - loss: -0.0859 - accuracy: 0.3571 - val_loss: 0.2937 - val_accuracy: 0.3750\n",
            "Epoch 47/50\n",
            "1/1 [==============================] - 0s 52ms/step - loss: -0.1050 - accuracy: 0.3571 - val_loss: 0.4212 - val_accuracy: 0.2500\n",
            "Epoch 48/50\n",
            "1/1 [==============================] - 0s 49ms/step - loss: -0.0865 - accuracy: 0.3571 - val_loss: 0.4754 - val_accuracy: 0.2500\n",
            "Epoch 49/50\n",
            "1/1 [==============================] - 0s 83ms/step - loss: -0.0818 - accuracy: 0.3571 - val_loss: 0.4794 - val_accuracy: 0.2500\n",
            "Epoch 50/50\n",
            "1/1 [==============================] - 0s 86ms/step - loss: -0.0254 - accuracy: 0.3571 - val_loss: 0.4684 - val_accuracy: 0.2500\n",
            "1/1 [==============================] - 0s 44ms/step - loss: 0.4684 - accuracy: 0.2500\n"
          ]
        }
      ],
      "source": [
        "#set up the model\n",
        "model = Sequential()\n",
        "model.add(LSTM(10,return_sequences=False))\n",
        "model.add(Dense(1, activation='sigmoid'))\n",
        "model.compile(loss='binary_crossentropy',\n",
        "              optimizer='adam',\n",
        "              metrics=['accuracy'])\n",
        "model.fit(X_train, y_train,\n",
        "          batch_size=36,\n",
        "          epochs=50,\n",
        "          validation_data=(X_test, y_test))\n",
        "score, acc = model.evaluate(X_test, y_test,\n",
        "                            batch_size=36)"
      ]
    }
  ],
  "metadata": {
    "colab": {
      "provenance": []
    },
    "kernelspec": {
      "display_name": "Python 3",
      "name": "python3"
    },
    "language_info": {
      "name": "python",
      "version": "3.11.1"
    }
  },
  "nbformat": 4,
  "nbformat_minor": 0
}
