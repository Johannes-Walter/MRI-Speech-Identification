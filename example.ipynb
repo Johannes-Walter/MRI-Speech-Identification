{
 "cells": [
  {
   "cell_type": "markdown",
   "metadata": {},
   "source": []
  },
  {
   "cell_type": "code",
   "execution_count": null,
   "metadata": {},
   "outputs": [],
   "source": [
    "import data_preparer"
   ]
  },
  {
   "cell_type": "code",
   "execution_count": null,
   "metadata": {},
   "outputs": [],
   "source": [
    "dataset = data_preparer.Dataset()\n",
    "\n",
    "randomized_data = dataset.get_random_prepared_datasets(100)"
   ]
  }
 ],
 "metadata": {
  "kernelspec": {
   "display_name": "NLP_paper",
   "language": "python",
   "name": "python3"
  },
  "language_info": {
   "name": "python",
   "version": "3.10.9"
  },
  "orig_nbformat": 4,
  "vscode": {
   "interpreter": {
    "hash": "bab26ef9f3aa303963f54541d82efadc9b91a29c635584d29ffbacace4ca481f"
   }
  }
 },
 "nbformat": 4,
 "nbformat_minor": 2
}
